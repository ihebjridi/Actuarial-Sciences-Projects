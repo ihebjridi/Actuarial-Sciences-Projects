{
 "cells": [
  {
   "cell_type": "markdown",
   "metadata": {},
   "source": [
    "# Projet Actuariat Non-Vie"
   ]
  },
  {
   "cell_type": "markdown",
   "metadata": {},
   "source": [
    "## Projet 1 : Claims Reserving"
   ]
  },
  {
   "cell_type": "markdown",
   "metadata": {},
   "source": [
    "### 1) Chargement des triangles de nombres, de règlement et de SAP"
   ]
  },
  {
   "cell_type": "markdown",
   "metadata": {},
   "source": [
    "Importation des librairies et initialisation des listes"
   ]
  },
  {
   "cell_type": "code",
   "execution_count": 56,
   "metadata": {},
   "outputs": [],
   "source": [
    "#install.packages('xlsx')\n",
    "#install.packages('ChainLadder')\n",
    "\n",
    "library(xlsx)\n",
    "library(ChainLadder)\n",
    "\n",
    "tr <- list()\n",
    "\n",
    "ouverturesNC <- list()\n",
    "regNC <- list()\n",
    "psapNC <- list()\n",
    "\n",
    "ouvertures <- list()\n",
    "reg <- list()\n",
    "psap <- list()\n",
    "\n",
    "mackOuvertures <-list()\n",
    "mackReg <-list()\n",
    "mackPsap <-list()\n",
    "\n",
    "bootstrapOuvertures <-list()\n",
    "bootstrapReg <-list()\n",
    "bootstrapPsap <-list()\n",
    "\n",
    "chainOuvertures <- list()\n",
    "chainReg <- list()\n",
    "chainPsap <- list()\n"
   ]
  },
  {
   "cell_type": "markdown",
   "metadata": {},
   "source": [
    "Chargement de tous les triangles avec sommes cumulées (En appliquant les méthodes ChainLadder, Mack et Boostrap)."
   ]
  },
  {
   "cell_type": "code",
   "execution_count": 57,
   "metadata": {},
   "outputs": [
    {
     "name": "stderr",
     "output_type": "stream",
     "text": [
      "Warning message in Mack.S.E(CL[[\"Models\"]], FullTriangle, est.sigma = est.sigma, :\n",
      "\"Information: essentially no variation in development data for period(s):\n",
      "'8-9'\"Warning message in Mack.S.E(CL[[\"Models\"]], FullTriangle, est.sigma = est.sigma, :\n",
      "\"Information: essentially no variation in development data for period(s):\n",
      "'6-7', '7-8', '8-9'\"Warning message in Mack.S.E(CL[[\"Models\"]], FullTriangle, est.sigma = est.sigma, :\n",
      "\"Information: essentially no variation in development data for period(s):\n",
      "'8-9'\"Warning message in Mack.S.E(CL[[\"Models\"]], FullTriangle, est.sigma = est.sigma, :\n",
      "\"Information: essentially no variation in development data for period(s):\n",
      "'6-7', '7-8', '8-9'\"Warning message in Mack.S.E(CL[[\"Models\"]], FullTriangle, est.sigma = est.sigma, :\n",
      "\"Information: essentially no variation in development data for period(s):\n",
      "'8-9'\"Warning message in Mack.S.E(CL[[\"Models\"]], FullTriangle, est.sigma = est.sigma, :\n",
      "\"Information: essentially no variation in development data for period(s):\n",
      "'3-4', '4-5', '5-6', '6-7', '7-8'\"Warning message in Mack.S.E(CL[[\"Models\"]], FullTriangle, est.sigma = est.sigma, :\n",
      "\"Information: essentially no variation in development data for period(s):\n",
      "'6-7', '7-8', '8-9'\""
     ]
    }
   ],
   "source": [
    "for( i in 1:5)\n",
    "{\n",
    "  tr[[i]] <- read.xlsx(\"Data.xlsx\", sheetName = paste(\"Triangle\",as.character(i),sep = \" \"),stringsAsFactors = F)\n",
    "  \n",
    "  ouvertures[[i]] <- as.data.frame(tr[[i]][2:11,2:11])\n",
    "  reg[[i]] <- as.data.frame(tr[[i]][14:23,2:11])\n",
    "  psap[[i]] <- as.data.frame(tr[[i]][26:35,2:11])\n",
    "  \n",
    "  colnames(ouvertures[[i]]) <- 1:10\n",
    "  rownames(ouvertures[[i]]) <- 2005:2014\n",
    "  \n",
    "  colnames(reg[[i]]) <- 1:10\n",
    "  rownames(reg[[i]]) <- 2005:2014\n",
    "  \n",
    "  colnames(psap[[i]]) <- 1:10\n",
    "  rownames(psap[[i]]) <- 2005:2014\n",
    "  \n",
    "  ouvertures[[i]] <- as.matrix(ouvertures[[i]])\n",
    "  reg[[i]] <- as.matrix(reg[[i]])\n",
    "  psap[[i]] <- as.matrix(psap[[i]])\n",
    "  \n",
    "  ouvertures[[i]] <- as.triangle(ouvertures[[i]])\n",
    "  reg[[i]] <- as.triangle(reg[[i]])\n",
    "  psap[[i]] <- as.triangle(psap[[i]])\n",
    "  \n",
    "  for(j in seq(2,10))\n",
    "  {\n",
    "    for(k in seq(10,10-j+2))\n",
    "    {\n",
    "      ouvertures[[i]][j,k]=NA\n",
    "      reg[[i]][j,k]=NA\n",
    "      psap[[i]][j,k]=NA\n",
    "    }\n",
    "  }\n",
    "    \n",
    "  ouverturesNC[[i]] <- ouvertures[[i]]\n",
    "  regNC[[i]] <- reg[[i]]\n",
    "  psapNC[[i]] <- psap[[i]]\n",
    "  \n",
    "  ouvertures[[i]] <- incr2cum(ouvertures[[i]])\n",
    "  reg[[i]] <- incr2cum(reg[[i]])\n",
    "  psap[[i]] <- incr2cum(psap[[i]])\n",
    "  \n",
    "  chainOuvertures[[i]] <- chainladder(Triangle = ouvertures[[i]])\n",
    "  chainReg[[i]] <- chainladder(Triangle = reg[[i]])\n",
    "  chainPsap[[i]] <- chainladder(Triangle = psap[[i]])\n",
    "  \n",
    "  mackOuvertures[[i]] <- MackChainLadder(Triangle = ouvertures[[i]], est.sigma = \"Mack\")\n",
    "  mackReg[[i]] <- MackChainLadder(Triangle = reg[[i]], est.sigma = \"Mack\")\n",
    "  mackPsap[[i]] <- MackChainLadder(Triangle = psap[[i]], est.sigma = \"Mack\")\n",
    "  \n",
    "  bootstrapOuvertures[[i]] <- BootChainLadder(Triangle = ouvertures[[i]],R=10000)\n",
    "  bootstrapReg[[i]] <- BootChainLadder(Triangle = reg[[i]],R=10000)\n",
    "  bootstrapPsap[[i]] <- BootChainLadder(Triangle = psap[[i]],R=10000)\n",
    "  \n",
    "}"
   ]
  },
  {
   "cell_type": "code",
   "execution_count": 13,
   "metadata": {
    "scrolled": true
   },
   "outputs": [
    {
     "data": {
      "text/html": [
       "<ol>\n",
       "\t<li><table>\n",
       "<thead><tr><th></th><th scope=col>1</th><th scope=col>2</th><th scope=col>3</th><th scope=col>4</th><th scope=col>5</th><th scope=col>6</th><th scope=col>7</th><th scope=col>8</th><th scope=col>9</th><th scope=col>10</th></tr></thead>\n",
       "<tbody>\n",
       "\t<tr><th scope=row>2005</th><td>1330</td><td>2184</td><td>2266</td><td>2290</td><td>2294</td><td>2294</td><td>2298</td><td>2298</td><td>2298</td><td>2298</td></tr>\n",
       "\t<tr><th scope=row>2006</th><td>1330</td><td>2204</td><td>2274</td><td>2300</td><td>2312</td><td>2312</td><td>2312</td><td>2312</td><td>2312</td><td>  NA</td></tr>\n",
       "\t<tr><th scope=row>2007</th><td>1786</td><td>3196</td><td>3358</td><td>3420</td><td>3440</td><td>3442</td><td>3444</td><td>3446</td><td>  NA</td><td>  NA</td></tr>\n",
       "\t<tr><th scope=row>2008</th><td>2278</td><td>3834</td><td>4002</td><td>4048</td><td>4056</td><td>4058</td><td>4062</td><td>  NA</td><td>  NA</td><td>  NA</td></tr>\n",
       "\t<tr><th scope=row>2009</th><td>2568</td><td>4150</td><td>4328</td><td>4382</td><td>4390</td><td>4392</td><td>  NA</td><td>  NA</td><td>  NA</td><td>  NA</td></tr>\n",
       "\t<tr><th scope=row>2010</th><td>2380</td><td>3864</td><td>3988</td><td>4024</td><td>4032</td><td>  NA</td><td>  NA</td><td>  NA</td><td>  NA</td><td>  NA</td></tr>\n",
       "\t<tr><th scope=row>2011</th><td>2424</td><td>3786</td><td>3970</td><td>4026</td><td>  NA</td><td>  NA</td><td>  NA</td><td>  NA</td><td>  NA</td><td>  NA</td></tr>\n",
       "\t<tr><th scope=row>2012</th><td>2348</td><td>3954</td><td>4182</td><td>  NA</td><td>  NA</td><td>  NA</td><td>  NA</td><td>  NA</td><td>  NA</td><td>  NA</td></tr>\n",
       "\t<tr><th scope=row>2013</th><td>2464</td><td>3918</td><td>  NA</td><td>  NA</td><td>  NA</td><td>  NA</td><td>  NA</td><td>  NA</td><td>  NA</td><td>  NA</td></tr>\n",
       "\t<tr><th scope=row>2014</th><td>1984</td><td>  NA</td><td>  NA</td><td>  NA</td><td>  NA</td><td>  NA</td><td>  NA</td><td>  NA</td><td>  NA</td><td>  NA</td></tr>\n",
       "</tbody>\n",
       "</table>\n",
       "</li>\n",
       "\t<li><table>\n",
       "<thead><tr><th></th><th scope=col>1</th><th scope=col>2</th><th scope=col>3</th><th scope=col>4</th><th scope=col>5</th><th scope=col>6</th><th scope=col>7</th><th scope=col>8</th><th scope=col>9</th><th scope=col>10</th></tr></thead>\n",
       "<tbody>\n",
       "\t<tr><th scope=row>2005</th><td> 624</td><td> 946</td><td> 964</td><td> 974</td><td> 978</td><td> 980</td><td> 980</td><td> 980</td><td> 980</td><td>980 </td></tr>\n",
       "\t<tr><th scope=row>2006</th><td> 728</td><td>1250</td><td>1294</td><td>1302</td><td>1308</td><td>1310</td><td>1310</td><td>1310</td><td>1310</td><td> NA </td></tr>\n",
       "\t<tr><th scope=row>2007</th><td> 898</td><td>1570</td><td>1624</td><td>1638</td><td>1638</td><td>1638</td><td>1638</td><td>1638</td><td>  NA</td><td> NA </td></tr>\n",
       "\t<tr><th scope=row>2008</th><td>1074</td><td>1596</td><td>1666</td><td>1674</td><td>1674</td><td>1674</td><td>1674</td><td>  NA</td><td>  NA</td><td> NA </td></tr>\n",
       "\t<tr><th scope=row>2009</th><td>1002</td><td>1558</td><td>1592</td><td>1612</td><td>1614</td><td>1614</td><td>  NA</td><td>  NA</td><td>  NA</td><td> NA </td></tr>\n",
       "\t<tr><th scope=row>2010</th><td>1022</td><td>1534</td><td>1572</td><td>1592</td><td>1594</td><td>  NA</td><td>  NA</td><td>  NA</td><td>  NA</td><td> NA </td></tr>\n",
       "\t<tr><th scope=row>2011</th><td>1192</td><td>1738</td><td>1822</td><td>1846</td><td>  NA</td><td>  NA</td><td>  NA</td><td>  NA</td><td>  NA</td><td> NA </td></tr>\n",
       "\t<tr><th scope=row>2012</th><td>1028</td><td>1696</td><td>1772</td><td>  NA</td><td>  NA</td><td>  NA</td><td>  NA</td><td>  NA</td><td>  NA</td><td> NA </td></tr>\n",
       "\t<tr><th scope=row>2013</th><td> 936</td><td>1450</td><td>  NA</td><td>  NA</td><td>  NA</td><td>  NA</td><td>  NA</td><td>  NA</td><td>  NA</td><td> NA </td></tr>\n",
       "\t<tr><th scope=row>2014</th><td> 708</td><td>  NA</td><td>  NA</td><td>  NA</td><td>  NA</td><td>  NA</td><td>  NA</td><td>  NA</td><td>  NA</td><td> NA </td></tr>\n",
       "</tbody>\n",
       "</table>\n",
       "</li>\n",
       "\t<li><table>\n",
       "<thead><tr><th></th><th scope=col>1</th><th scope=col>2</th><th scope=col>3</th><th scope=col>4</th><th scope=col>5</th><th scope=col>6</th><th scope=col>7</th><th scope=col>8</th><th scope=col>9</th><th scope=col>10</th></tr></thead>\n",
       "<tbody>\n",
       "\t<tr><th scope=row>2005</th><td>31116</td><td>33092</td><td>33280</td><td>33344</td><td>33356</td><td>33360</td><td>33360</td><td>33362</td><td>33362</td><td>33362</td></tr>\n",
       "\t<tr><th scope=row>2006</th><td>31198</td><td>33120</td><td>33246</td><td>33282</td><td>33294</td><td>33298</td><td>33298</td><td>33298</td><td>33298</td><td>   NA</td></tr>\n",
       "\t<tr><th scope=row>2007</th><td>35850</td><td>37760</td><td>37892</td><td>37948</td><td>37960</td><td>37970</td><td>37974</td><td>37976</td><td>   NA</td><td>   NA</td></tr>\n",
       "\t<tr><th scope=row>2008</th><td>37860</td><td>39864</td><td>40004</td><td>40066</td><td>40074</td><td>40078</td><td>40082</td><td>   NA</td><td>   NA</td><td>   NA</td></tr>\n",
       "\t<tr><th scope=row>2009</th><td>31142</td><td>33112</td><td>33290</td><td>33352</td><td>33358</td><td>33362</td><td>   NA</td><td>   NA</td><td>   NA</td><td>   NA</td></tr>\n",
       "\t<tr><th scope=row>2010</th><td>32930</td><td>34724</td><td>34908</td><td>34948</td><td>34964</td><td>   NA</td><td>   NA</td><td>   NA</td><td>   NA</td><td>   NA</td></tr>\n",
       "\t<tr><th scope=row>2011</th><td>36808</td><td>38638</td><td>38824</td><td>38908</td><td>   NA</td><td>   NA</td><td>   NA</td><td>   NA</td><td>   NA</td><td>   NA</td></tr>\n",
       "\t<tr><th scope=row>2012</th><td>37568</td><td>39790</td><td>39956</td><td>   NA</td><td>   NA</td><td>   NA</td><td>   NA</td><td>   NA</td><td>   NA</td><td>   NA</td></tr>\n",
       "\t<tr><th scope=row>2013</th><td>37966</td><td>40400</td><td>   NA</td><td>   NA</td><td>   NA</td><td>   NA</td><td>   NA</td><td>   NA</td><td>   NA</td><td>   NA</td></tr>\n",
       "\t<tr><th scope=row>2014</th><td>36480</td><td>   NA</td><td>   NA</td><td>   NA</td><td>   NA</td><td>   NA</td><td>   NA</td><td>   NA</td><td>   NA</td><td>   NA</td></tr>\n",
       "</tbody>\n",
       "</table>\n",
       "</li>\n",
       "\t<li><table>\n",
       "<thead><tr><th></th><th scope=col>1</th><th scope=col>2</th><th scope=col>3</th><th scope=col>4</th><th scope=col>5</th><th scope=col>6</th><th scope=col>7</th><th scope=col>8</th><th scope=col>9</th><th scope=col>10</th></tr></thead>\n",
       "<tbody>\n",
       "\t<tr><th scope=row>2005</th><td>15582</td><td>15968</td><td>15986</td><td>15990</td><td>15990</td><td>15990</td><td>15990</td><td>15990</td><td>15990</td><td>15990</td></tr>\n",
       "\t<tr><th scope=row>2006</th><td>15422</td><td>15808</td><td>15824</td><td>15828</td><td>15830</td><td>15832</td><td>15832</td><td>15832</td><td>15832</td><td>   NA</td></tr>\n",
       "\t<tr><th scope=row>2007</th><td>15560</td><td>15800</td><td>15810</td><td>15810</td><td>15810</td><td>15810</td><td>15810</td><td>15810</td><td>   NA</td><td>   NA</td></tr>\n",
       "\t<tr><th scope=row>2008</th><td>16576</td><td>16804</td><td>16812</td><td>16814</td><td>16814</td><td>16814</td><td>16814</td><td>   NA</td><td>   NA</td><td>   NA</td></tr>\n",
       "\t<tr><th scope=row>2009</th><td>17538</td><td>17824</td><td>17836</td><td>17842</td><td>17844</td><td>17844</td><td>   NA</td><td>   NA</td><td>   NA</td><td>   NA</td></tr>\n",
       "\t<tr><th scope=row>2010</th><td>20332</td><td>20602</td><td>20610</td><td>20610</td><td>20612</td><td>   NA</td><td>   NA</td><td>   NA</td><td>   NA</td><td>   NA</td></tr>\n",
       "\t<tr><th scope=row>2011</th><td>24562</td><td>24842</td><td>24846</td><td>24848</td><td>   NA</td><td>   NA</td><td>   NA</td><td>   NA</td><td>   NA</td><td>   NA</td></tr>\n",
       "\t<tr><th scope=row>2012</th><td>27884</td><td>28260</td><td>28272</td><td>   NA</td><td>   NA</td><td>   NA</td><td>   NA</td><td>   NA</td><td>   NA</td><td>   NA</td></tr>\n",
       "\t<tr><th scope=row>2013</th><td>28726</td><td>29140</td><td>   NA</td><td>   NA</td><td>   NA</td><td>   NA</td><td>   NA</td><td>   NA</td><td>   NA</td><td>   NA</td></tr>\n",
       "\t<tr><th scope=row>2014</th><td>29734</td><td>   NA</td><td>   NA</td><td>   NA</td><td>   NA</td><td>   NA</td><td>   NA</td><td>   NA</td><td>   NA</td><td>   NA</td></tr>\n",
       "</tbody>\n",
       "</table>\n",
       "</li>\n",
       "\t<li><table>\n",
       "<thead><tr><th></th><th scope=col>1</th><th scope=col>2</th><th scope=col>3</th><th scope=col>4</th><th scope=col>5</th><th scope=col>6</th><th scope=col>7</th><th scope=col>8</th><th scope=col>9</th><th scope=col>10</th></tr></thead>\n",
       "<tbody>\n",
       "\t<tr><th scope=row>2005</th><td>1710</td><td>1746</td><td>1746</td><td>1746</td><td>1746</td><td>1746</td><td>1746</td><td>1746</td><td>1746</td><td>1746</td></tr>\n",
       "\t<tr><th scope=row>2006</th><td>1856</td><td>1930</td><td>1930</td><td>1930</td><td>1930</td><td>1930</td><td>1930</td><td>1930</td><td>1930</td><td>  NA</td></tr>\n",
       "\t<tr><th scope=row>2007</th><td>1726</td><td>1790</td><td>1794</td><td>1794</td><td>1794</td><td>1794</td><td>1794</td><td>1794</td><td>  NA</td><td>  NA</td></tr>\n",
       "\t<tr><th scope=row>2008</th><td>1872</td><td>1964</td><td>1964</td><td>1964</td><td>1964</td><td>1964</td><td>1964</td><td>  NA</td><td>  NA</td><td>  NA</td></tr>\n",
       "\t<tr><th scope=row>2009</th><td>2100</td><td>2180</td><td>2180</td><td>2180</td><td>2180</td><td>2180</td><td>  NA</td><td>  NA</td><td>  NA</td><td>  NA</td></tr>\n",
       "\t<tr><th scope=row>2010</th><td>2194</td><td>2260</td><td>2262</td><td>2262</td><td>2262</td><td>  NA</td><td>  NA</td><td>  NA</td><td>  NA</td><td>  NA</td></tr>\n",
       "\t<tr><th scope=row>2011</th><td>2478</td><td>2556</td><td>2556</td><td>2556</td><td>  NA</td><td>  NA</td><td>  NA</td><td>  NA</td><td>  NA</td><td>  NA</td></tr>\n",
       "\t<tr><th scope=row>2012</th><td>2350</td><td>2440</td><td>2444</td><td>  NA</td><td>  NA</td><td>  NA</td><td>  NA</td><td>  NA</td><td>  NA</td><td>  NA</td></tr>\n",
       "\t<tr><th scope=row>2013</th><td>2710</td><td>2784</td><td>  NA</td><td>  NA</td><td>  NA</td><td>  NA</td><td>  NA</td><td>  NA</td><td>  NA</td><td>  NA</td></tr>\n",
       "\t<tr><th scope=row>2014</th><td>2716</td><td>  NA</td><td>  NA</td><td>  NA</td><td>  NA</td><td>  NA</td><td>  NA</td><td>  NA</td><td>  NA</td><td>  NA</td></tr>\n",
       "</tbody>\n",
       "</table>\n",
       "</li>\n",
       "</ol>\n"
      ],
      "text/latex": [
       "\\begin{enumerate}\n",
       "\\item \\begin{tabular}{r|llllllllll}\n",
       "  & 1 & 2 & 3 & 4 & 5 & 6 & 7 & 8 & 9 & 10\\\\\n",
       "\\hline\n",
       "\t2005 & 1330 & 2184 & 2266 & 2290 & 2294 & 2294 & 2298 & 2298 & 2298 & 2298\\\\\n",
       "\t2006 & 1330 & 2204 & 2274 & 2300 & 2312 & 2312 & 2312 & 2312 & 2312 &   NA\\\\\n",
       "\t2007 & 1786 & 3196 & 3358 & 3420 & 3440 & 3442 & 3444 & 3446 &   NA &   NA\\\\\n",
       "\t2008 & 2278 & 3834 & 4002 & 4048 & 4056 & 4058 & 4062 &   NA &   NA &   NA\\\\\n",
       "\t2009 & 2568 & 4150 & 4328 & 4382 & 4390 & 4392 &   NA &   NA &   NA &   NA\\\\\n",
       "\t2010 & 2380 & 3864 & 3988 & 4024 & 4032 &   NA &   NA &   NA &   NA &   NA\\\\\n",
       "\t2011 & 2424 & 3786 & 3970 & 4026 &   NA &   NA &   NA &   NA &   NA &   NA\\\\\n",
       "\t2012 & 2348 & 3954 & 4182 &   NA &   NA &   NA &   NA &   NA &   NA &   NA\\\\\n",
       "\t2013 & 2464 & 3918 &   NA &   NA &   NA &   NA &   NA &   NA &   NA &   NA\\\\\n",
       "\t2014 & 1984 &   NA &   NA &   NA &   NA &   NA &   NA &   NA &   NA &   NA\\\\\n",
       "\\end{tabular}\n",
       "\n",
       "\\item \\begin{tabular}{r|llllllllll}\n",
       "  & 1 & 2 & 3 & 4 & 5 & 6 & 7 & 8 & 9 & 10\\\\\n",
       "\\hline\n",
       "\t2005 &  624 &  946 &  964 &  974 &  978 &  980 &  980 &  980 &  980 & 980 \\\\\n",
       "\t2006 &  728 & 1250 & 1294 & 1302 & 1308 & 1310 & 1310 & 1310 & 1310 &  NA \\\\\n",
       "\t2007 &  898 & 1570 & 1624 & 1638 & 1638 & 1638 & 1638 & 1638 &   NA &  NA \\\\\n",
       "\t2008 & 1074 & 1596 & 1666 & 1674 & 1674 & 1674 & 1674 &   NA &   NA &  NA \\\\\n",
       "\t2009 & 1002 & 1558 & 1592 & 1612 & 1614 & 1614 &   NA &   NA &   NA &  NA \\\\\n",
       "\t2010 & 1022 & 1534 & 1572 & 1592 & 1594 &   NA &   NA &   NA &   NA &  NA \\\\\n",
       "\t2011 & 1192 & 1738 & 1822 & 1846 &   NA &   NA &   NA &   NA &   NA &  NA \\\\\n",
       "\t2012 & 1028 & 1696 & 1772 &   NA &   NA &   NA &   NA &   NA &   NA &  NA \\\\\n",
       "\t2013 &  936 & 1450 &   NA &   NA &   NA &   NA &   NA &   NA &   NA &  NA \\\\\n",
       "\t2014 &  708 &   NA &   NA &   NA &   NA &   NA &   NA &   NA &   NA &  NA \\\\\n",
       "\\end{tabular}\n",
       "\n",
       "\\item \\begin{tabular}{r|llllllllll}\n",
       "  & 1 & 2 & 3 & 4 & 5 & 6 & 7 & 8 & 9 & 10\\\\\n",
       "\\hline\n",
       "\t2005 & 31116 & 33092 & 33280 & 33344 & 33356 & 33360 & 33360 & 33362 & 33362 & 33362\\\\\n",
       "\t2006 & 31198 & 33120 & 33246 & 33282 & 33294 & 33298 & 33298 & 33298 & 33298 &    NA\\\\\n",
       "\t2007 & 35850 & 37760 & 37892 & 37948 & 37960 & 37970 & 37974 & 37976 &    NA &    NA\\\\\n",
       "\t2008 & 37860 & 39864 & 40004 & 40066 & 40074 & 40078 & 40082 &    NA &    NA &    NA\\\\\n",
       "\t2009 & 31142 & 33112 & 33290 & 33352 & 33358 & 33362 &    NA &    NA &    NA &    NA\\\\\n",
       "\t2010 & 32930 & 34724 & 34908 & 34948 & 34964 &    NA &    NA &    NA &    NA &    NA\\\\\n",
       "\t2011 & 36808 & 38638 & 38824 & 38908 &    NA &    NA &    NA &    NA &    NA &    NA\\\\\n",
       "\t2012 & 37568 & 39790 & 39956 &    NA &    NA &    NA &    NA &    NA &    NA &    NA\\\\\n",
       "\t2013 & 37966 & 40400 &    NA &    NA &    NA &    NA &    NA &    NA &    NA &    NA\\\\\n",
       "\t2014 & 36480 &    NA &    NA &    NA &    NA &    NA &    NA &    NA &    NA &    NA\\\\\n",
       "\\end{tabular}\n",
       "\n",
       "\\item \\begin{tabular}{r|llllllllll}\n",
       "  & 1 & 2 & 3 & 4 & 5 & 6 & 7 & 8 & 9 & 10\\\\\n",
       "\\hline\n",
       "\t2005 & 15582 & 15968 & 15986 & 15990 & 15990 & 15990 & 15990 & 15990 & 15990 & 15990\\\\\n",
       "\t2006 & 15422 & 15808 & 15824 & 15828 & 15830 & 15832 & 15832 & 15832 & 15832 &    NA\\\\\n",
       "\t2007 & 15560 & 15800 & 15810 & 15810 & 15810 & 15810 & 15810 & 15810 &    NA &    NA\\\\\n",
       "\t2008 & 16576 & 16804 & 16812 & 16814 & 16814 & 16814 & 16814 &    NA &    NA &    NA\\\\\n",
       "\t2009 & 17538 & 17824 & 17836 & 17842 & 17844 & 17844 &    NA &    NA &    NA &    NA\\\\\n",
       "\t2010 & 20332 & 20602 & 20610 & 20610 & 20612 &    NA &    NA &    NA &    NA &    NA\\\\\n",
       "\t2011 & 24562 & 24842 & 24846 & 24848 &    NA &    NA &    NA &    NA &    NA &    NA\\\\\n",
       "\t2012 & 27884 & 28260 & 28272 &    NA &    NA &    NA &    NA &    NA &    NA &    NA\\\\\n",
       "\t2013 & 28726 & 29140 &    NA &    NA &    NA &    NA &    NA &    NA &    NA &    NA\\\\\n",
       "\t2014 & 29734 &    NA &    NA &    NA &    NA &    NA &    NA &    NA &    NA &    NA\\\\\n",
       "\\end{tabular}\n",
       "\n",
       "\\item \\begin{tabular}{r|llllllllll}\n",
       "  & 1 & 2 & 3 & 4 & 5 & 6 & 7 & 8 & 9 & 10\\\\\n",
       "\\hline\n",
       "\t2005 & 1710 & 1746 & 1746 & 1746 & 1746 & 1746 & 1746 & 1746 & 1746 & 1746\\\\\n",
       "\t2006 & 1856 & 1930 & 1930 & 1930 & 1930 & 1930 & 1930 & 1930 & 1930 &   NA\\\\\n",
       "\t2007 & 1726 & 1790 & 1794 & 1794 & 1794 & 1794 & 1794 & 1794 &   NA &   NA\\\\\n",
       "\t2008 & 1872 & 1964 & 1964 & 1964 & 1964 & 1964 & 1964 &   NA &   NA &   NA\\\\\n",
       "\t2009 & 2100 & 2180 & 2180 & 2180 & 2180 & 2180 &   NA &   NA &   NA &   NA\\\\\n",
       "\t2010 & 2194 & 2260 & 2262 & 2262 & 2262 &   NA &   NA &   NA &   NA &   NA\\\\\n",
       "\t2011 & 2478 & 2556 & 2556 & 2556 &   NA &   NA &   NA &   NA &   NA &   NA\\\\\n",
       "\t2012 & 2350 & 2440 & 2444 &   NA &   NA &   NA &   NA &   NA &   NA &   NA\\\\\n",
       "\t2013 & 2710 & 2784 &   NA &   NA &   NA &   NA &   NA &   NA &   NA &   NA\\\\\n",
       "\t2014 & 2716 &   NA &   NA &   NA &   NA &   NA &   NA &   NA &   NA &   NA\\\\\n",
       "\\end{tabular}\n",
       "\n",
       "\\end{enumerate}\n"
      ],
      "text/markdown": [
       "1. \n",
       "| <!--/--> | 1 | 2 | 3 | 4 | 5 | 6 | 7 | 8 | 9 | 10 |\n",
       "|---|---|---|---|---|---|---|---|---|---|---|\n",
       "| 2005 | 1330 | 2184 | 2266 | 2290 | 2294 | 2294 | 2298 | 2298 | 2298 | 2298 |\n",
       "| 2006 | 1330 | 2204 | 2274 | 2300 | 2312 | 2312 | 2312 | 2312 | 2312 |   NA |\n",
       "| 2007 | 1786 | 3196 | 3358 | 3420 | 3440 | 3442 | 3444 | 3446 |   NA |   NA |\n",
       "| 2008 | 2278 | 3834 | 4002 | 4048 | 4056 | 4058 | 4062 |   NA |   NA |   NA |\n",
       "| 2009 | 2568 | 4150 | 4328 | 4382 | 4390 | 4392 |   NA |   NA |   NA |   NA |\n",
       "| 2010 | 2380 | 3864 | 3988 | 4024 | 4032 |   NA |   NA |   NA |   NA |   NA |\n",
       "| 2011 | 2424 | 3786 | 3970 | 4026 |   NA |   NA |   NA |   NA |   NA |   NA |\n",
       "| 2012 | 2348 | 3954 | 4182 |   NA |   NA |   NA |   NA |   NA |   NA |   NA |\n",
       "| 2013 | 2464 | 3918 |   NA |   NA |   NA |   NA |   NA |   NA |   NA |   NA |\n",
       "| 2014 | 1984 |   NA |   NA |   NA |   NA |   NA |   NA |   NA |   NA |   NA |\n",
       "\n",
       "\n",
       "2. \n",
       "| <!--/--> | 1 | 2 | 3 | 4 | 5 | 6 | 7 | 8 | 9 | 10 |\n",
       "|---|---|---|---|---|---|---|---|---|---|---|\n",
       "| 2005 |  624 |  946 |  964 |  974 |  978 |  980 |  980 |  980 |  980 | 980  |\n",
       "| 2006 |  728 | 1250 | 1294 | 1302 | 1308 | 1310 | 1310 | 1310 | 1310 |  NA  |\n",
       "| 2007 |  898 | 1570 | 1624 | 1638 | 1638 | 1638 | 1638 | 1638 |   NA |  NA  |\n",
       "| 2008 | 1074 | 1596 | 1666 | 1674 | 1674 | 1674 | 1674 |   NA |   NA |  NA  |\n",
       "| 2009 | 1002 | 1558 | 1592 | 1612 | 1614 | 1614 |   NA |   NA |   NA |  NA  |\n",
       "| 2010 | 1022 | 1534 | 1572 | 1592 | 1594 |   NA |   NA |   NA |   NA |  NA  |\n",
       "| 2011 | 1192 | 1738 | 1822 | 1846 |   NA |   NA |   NA |   NA |   NA |  NA  |\n",
       "| 2012 | 1028 | 1696 | 1772 |   NA |   NA |   NA |   NA |   NA |   NA |  NA  |\n",
       "| 2013 |  936 | 1450 |   NA |   NA |   NA |   NA |   NA |   NA |   NA |  NA  |\n",
       "| 2014 |  708 |   NA |   NA |   NA |   NA |   NA |   NA |   NA |   NA |  NA  |\n",
       "\n",
       "\n",
       "3. \n",
       "| <!--/--> | 1 | 2 | 3 | 4 | 5 | 6 | 7 | 8 | 9 | 10 |\n",
       "|---|---|---|---|---|---|---|---|---|---|---|\n",
       "| 2005 | 31116 | 33092 | 33280 | 33344 | 33356 | 33360 | 33360 | 33362 | 33362 | 33362 |\n",
       "| 2006 | 31198 | 33120 | 33246 | 33282 | 33294 | 33298 | 33298 | 33298 | 33298 |    NA |\n",
       "| 2007 | 35850 | 37760 | 37892 | 37948 | 37960 | 37970 | 37974 | 37976 |    NA |    NA |\n",
       "| 2008 | 37860 | 39864 | 40004 | 40066 | 40074 | 40078 | 40082 |    NA |    NA |    NA |\n",
       "| 2009 | 31142 | 33112 | 33290 | 33352 | 33358 | 33362 |    NA |    NA |    NA |    NA |\n",
       "| 2010 | 32930 | 34724 | 34908 | 34948 | 34964 |    NA |    NA |    NA |    NA |    NA |\n",
       "| 2011 | 36808 | 38638 | 38824 | 38908 |    NA |    NA |    NA |    NA |    NA |    NA |\n",
       "| 2012 | 37568 | 39790 | 39956 |    NA |    NA |    NA |    NA |    NA |    NA |    NA |\n",
       "| 2013 | 37966 | 40400 |    NA |    NA |    NA |    NA |    NA |    NA |    NA |    NA |\n",
       "| 2014 | 36480 |    NA |    NA |    NA |    NA |    NA |    NA |    NA |    NA |    NA |\n",
       "\n",
       "\n",
       "4. \n",
       "| <!--/--> | 1 | 2 | 3 | 4 | 5 | 6 | 7 | 8 | 9 | 10 |\n",
       "|---|---|---|---|---|---|---|---|---|---|---|\n",
       "| 2005 | 15582 | 15968 | 15986 | 15990 | 15990 | 15990 | 15990 | 15990 | 15990 | 15990 |\n",
       "| 2006 | 15422 | 15808 | 15824 | 15828 | 15830 | 15832 | 15832 | 15832 | 15832 |    NA |\n",
       "| 2007 | 15560 | 15800 | 15810 | 15810 | 15810 | 15810 | 15810 | 15810 |    NA |    NA |\n",
       "| 2008 | 16576 | 16804 | 16812 | 16814 | 16814 | 16814 | 16814 |    NA |    NA |    NA |\n",
       "| 2009 | 17538 | 17824 | 17836 | 17842 | 17844 | 17844 |    NA |    NA |    NA |    NA |\n",
       "| 2010 | 20332 | 20602 | 20610 | 20610 | 20612 |    NA |    NA |    NA |    NA |    NA |\n",
       "| 2011 | 24562 | 24842 | 24846 | 24848 |    NA |    NA |    NA |    NA |    NA |    NA |\n",
       "| 2012 | 27884 | 28260 | 28272 |    NA |    NA |    NA |    NA |    NA |    NA |    NA |\n",
       "| 2013 | 28726 | 29140 |    NA |    NA |    NA |    NA |    NA |    NA |    NA |    NA |\n",
       "| 2014 | 29734 |    NA |    NA |    NA |    NA |    NA |    NA |    NA |    NA |    NA |\n",
       "\n",
       "\n",
       "5. \n",
       "| <!--/--> | 1 | 2 | 3 | 4 | 5 | 6 | 7 | 8 | 9 | 10 |\n",
       "|---|---|---|---|---|---|---|---|---|---|---|\n",
       "| 2005 | 1710 | 1746 | 1746 | 1746 | 1746 | 1746 | 1746 | 1746 | 1746 | 1746 |\n",
       "| 2006 | 1856 | 1930 | 1930 | 1930 | 1930 | 1930 | 1930 | 1930 | 1930 |   NA |\n",
       "| 2007 | 1726 | 1790 | 1794 | 1794 | 1794 | 1794 | 1794 | 1794 |   NA |   NA |\n",
       "| 2008 | 1872 | 1964 | 1964 | 1964 | 1964 | 1964 | 1964 |   NA |   NA |   NA |\n",
       "| 2009 | 2100 | 2180 | 2180 | 2180 | 2180 | 2180 |   NA |   NA |   NA |   NA |\n",
       "| 2010 | 2194 | 2260 | 2262 | 2262 | 2262 |   NA |   NA |   NA |   NA |   NA |\n",
       "| 2011 | 2478 | 2556 | 2556 | 2556 |   NA |   NA |   NA |   NA |   NA |   NA |\n",
       "| 2012 | 2350 | 2440 | 2444 |   NA |   NA |   NA |   NA |   NA |   NA |   NA |\n",
       "| 2013 | 2710 | 2784 |   NA |   NA |   NA |   NA |   NA |   NA |   NA |   NA |\n",
       "| 2014 | 2716 |   NA |   NA |   NA |   NA |   NA |   NA |   NA |   NA |   NA |\n",
       "\n",
       "\n",
       "\n",
       "\n"
      ],
      "text/plain": [
       "[[1]]\n",
       "      dev\n",
       "origin    1    2    3    4    5    6    7    8    9   10\n",
       "  2005 1330 2184 2266 2290 2294 2294 2298 2298 2298 2298\n",
       "  2006 1330 2204 2274 2300 2312 2312 2312 2312 2312   NA\n",
       "  2007 1786 3196 3358 3420 3440 3442 3444 3446   NA   NA\n",
       "  2008 2278 3834 4002 4048 4056 4058 4062   NA   NA   NA\n",
       "  2009 2568 4150 4328 4382 4390 4392   NA   NA   NA   NA\n",
       "  2010 2380 3864 3988 4024 4032   NA   NA   NA   NA   NA\n",
       "  2011 2424 3786 3970 4026   NA   NA   NA   NA   NA   NA\n",
       "  2012 2348 3954 4182   NA   NA   NA   NA   NA   NA   NA\n",
       "  2013 2464 3918   NA   NA   NA   NA   NA   NA   NA   NA\n",
       "  2014 1984   NA   NA   NA   NA   NA   NA   NA   NA   NA\n",
       "\n",
       "[[2]]\n",
       "      dev\n",
       "origin    1    2    3    4    5    6    7    8    9  10\n",
       "  2005  624  946  964  974  978  980  980  980  980 980\n",
       "  2006  728 1250 1294 1302 1308 1310 1310 1310 1310  NA\n",
       "  2007  898 1570 1624 1638 1638 1638 1638 1638   NA  NA\n",
       "  2008 1074 1596 1666 1674 1674 1674 1674   NA   NA  NA\n",
       "  2009 1002 1558 1592 1612 1614 1614   NA   NA   NA  NA\n",
       "  2010 1022 1534 1572 1592 1594   NA   NA   NA   NA  NA\n",
       "  2011 1192 1738 1822 1846   NA   NA   NA   NA   NA  NA\n",
       "  2012 1028 1696 1772   NA   NA   NA   NA   NA   NA  NA\n",
       "  2013  936 1450   NA   NA   NA   NA   NA   NA   NA  NA\n",
       "  2014  708   NA   NA   NA   NA   NA   NA   NA   NA  NA\n",
       "\n",
       "[[3]]\n",
       "      dev\n",
       "origin     1     2     3     4     5     6     7     8     9    10\n",
       "  2005 31116 33092 33280 33344 33356 33360 33360 33362 33362 33362\n",
       "  2006 31198 33120 33246 33282 33294 33298 33298 33298 33298    NA\n",
       "  2007 35850 37760 37892 37948 37960 37970 37974 37976    NA    NA\n",
       "  2008 37860 39864 40004 40066 40074 40078 40082    NA    NA    NA\n",
       "  2009 31142 33112 33290 33352 33358 33362    NA    NA    NA    NA\n",
       "  2010 32930 34724 34908 34948 34964    NA    NA    NA    NA    NA\n",
       "  2011 36808 38638 38824 38908    NA    NA    NA    NA    NA    NA\n",
       "  2012 37568 39790 39956    NA    NA    NA    NA    NA    NA    NA\n",
       "  2013 37966 40400    NA    NA    NA    NA    NA    NA    NA    NA\n",
       "  2014 36480    NA    NA    NA    NA    NA    NA    NA    NA    NA\n",
       "\n",
       "[[4]]\n",
       "      dev\n",
       "origin     1     2     3     4     5     6     7     8     9    10\n",
       "  2005 15582 15968 15986 15990 15990 15990 15990 15990 15990 15990\n",
       "  2006 15422 15808 15824 15828 15830 15832 15832 15832 15832    NA\n",
       "  2007 15560 15800 15810 15810 15810 15810 15810 15810    NA    NA\n",
       "  2008 16576 16804 16812 16814 16814 16814 16814    NA    NA    NA\n",
       "  2009 17538 17824 17836 17842 17844 17844    NA    NA    NA    NA\n",
       "  2010 20332 20602 20610 20610 20612    NA    NA    NA    NA    NA\n",
       "  2011 24562 24842 24846 24848    NA    NA    NA    NA    NA    NA\n",
       "  2012 27884 28260 28272    NA    NA    NA    NA    NA    NA    NA\n",
       "  2013 28726 29140    NA    NA    NA    NA    NA    NA    NA    NA\n",
       "  2014 29734    NA    NA    NA    NA    NA    NA    NA    NA    NA\n",
       "\n",
       "[[5]]\n",
       "      dev\n",
       "origin    1    2    3    4    5    6    7    8    9   10\n",
       "  2005 1710 1746 1746 1746 1746 1746 1746 1746 1746 1746\n",
       "  2006 1856 1930 1930 1930 1930 1930 1930 1930 1930   NA\n",
       "  2007 1726 1790 1794 1794 1794 1794 1794 1794   NA   NA\n",
       "  2008 1872 1964 1964 1964 1964 1964 1964   NA   NA   NA\n",
       "  2009 2100 2180 2180 2180 2180 2180   NA   NA   NA   NA\n",
       "  2010 2194 2260 2262 2262 2262   NA   NA   NA   NA   NA\n",
       "  2011 2478 2556 2556 2556   NA   NA   NA   NA   NA   NA\n",
       "  2012 2350 2440 2444   NA   NA   NA   NA   NA   NA   NA\n",
       "  2013 2710 2784   NA   NA   NA   NA   NA   NA   NA   NA\n",
       "  2014 2716   NA   NA   NA   NA   NA   NA   NA   NA   NA\n"
      ]
     },
     "metadata": {},
     "output_type": "display_data"
    }
   ],
   "source": [
    "ouvertures"
   ]
  },
  {
   "cell_type": "markdown",
   "metadata": {},
   "source": [
    "On choisit le premier triangle"
   ]
  },
  {
   "cell_type": "markdown",
   "metadata": {},
   "source": [
    "### 2) Analyse des triangles"
   ]
  },
  {
   "cell_type": "markdown",
   "metadata": {},
   "source": [
    "- Triangle des ouvertures"
   ]
  },
  {
   "cell_type": "code",
   "execution_count": 58,
   "metadata": {},
   "outputs": [
    {
     "data": {
      "text/html": [
       "<table>\n",
       "<thead><tr><th></th><th scope=col>1</th><th scope=col>2</th><th scope=col>3</th><th scope=col>4</th><th scope=col>5</th><th scope=col>6</th><th scope=col>7</th><th scope=col>8</th><th scope=col>9</th><th scope=col>10</th></tr></thead>\n",
       "<tbody>\n",
       "\t<tr><th scope=row>2005</th><td>1330</td><td> 854</td><td> 82 </td><td>24  </td><td> 4  </td><td> 0  </td><td> 4  </td><td> 0  </td><td> 0  </td><td> 0  </td></tr>\n",
       "\t<tr><th scope=row>2006</th><td>1330</td><td> 874</td><td> 70 </td><td>26  </td><td>12  </td><td> 0  </td><td> 0  </td><td> 0  </td><td> 0  </td><td>NA  </td></tr>\n",
       "\t<tr><th scope=row>2007</th><td>1786</td><td>1410</td><td>162 </td><td>62  </td><td>20  </td><td> 2  </td><td> 2  </td><td> 2  </td><td>NA  </td><td>NA  </td></tr>\n",
       "\t<tr><th scope=row>2008</th><td>2278</td><td>1556</td><td>168 </td><td>46  </td><td> 8  </td><td> 2  </td><td> 4  </td><td>NA  </td><td>NA  </td><td>NA  </td></tr>\n",
       "\t<tr><th scope=row>2009</th><td>2568</td><td>1582</td><td>178 </td><td>54  </td><td> 8  </td><td> 2  </td><td>NA  </td><td>NA  </td><td>NA  </td><td>NA  </td></tr>\n",
       "\t<tr><th scope=row>2010</th><td>2380</td><td>1484</td><td>124 </td><td>36  </td><td> 8  </td><td>NA  </td><td>NA  </td><td>NA  </td><td>NA  </td><td>NA  </td></tr>\n",
       "\t<tr><th scope=row>2011</th><td>2424</td><td>1362</td><td>184 </td><td>56  </td><td>NA  </td><td>NA  </td><td>NA  </td><td>NA  </td><td>NA  </td><td>NA  </td></tr>\n",
       "\t<tr><th scope=row>2012</th><td>2348</td><td>1606</td><td>228 </td><td>NA  </td><td>NA  </td><td>NA  </td><td>NA  </td><td>NA  </td><td>NA  </td><td>NA  </td></tr>\n",
       "\t<tr><th scope=row>2013</th><td>2464</td><td>1454</td><td> NA </td><td>NA  </td><td>NA  </td><td>NA  </td><td>NA  </td><td>NA  </td><td>NA  </td><td>NA  </td></tr>\n",
       "\t<tr><th scope=row>2014</th><td>1984</td><td>  NA</td><td> NA </td><td>NA  </td><td>NA  </td><td>NA  </td><td>NA  </td><td>NA  </td><td>NA  </td><td>NA  </td></tr>\n",
       "</tbody>\n",
       "</table>\n"
      ],
      "text/latex": [
       "\\begin{tabular}{r|llllllllll}\n",
       "  & 1 & 2 & 3 & 4 & 5 & 6 & 7 & 8 & 9 & 10\\\\\n",
       "\\hline\n",
       "\t2005 & 1330 &  854 &  82  & 24   &  4   &  0   &  4   &  0   &  0   &  0  \\\\\n",
       "\t2006 & 1330 &  874 &  70  & 26   & 12   &  0   &  0   &  0   &  0   & NA  \\\\\n",
       "\t2007 & 1786 & 1410 & 162  & 62   & 20   &  2   &  2   &  2   & NA   & NA  \\\\\n",
       "\t2008 & 2278 & 1556 & 168  & 46   &  8   &  2   &  4   & NA   & NA   & NA  \\\\\n",
       "\t2009 & 2568 & 1582 & 178  & 54   &  8   &  2   & NA   & NA   & NA   & NA  \\\\\n",
       "\t2010 & 2380 & 1484 & 124  & 36   &  8   & NA   & NA   & NA   & NA   & NA  \\\\\n",
       "\t2011 & 2424 & 1362 & 184  & 56   & NA   & NA   & NA   & NA   & NA   & NA  \\\\\n",
       "\t2012 & 2348 & 1606 & 228  & NA   & NA   & NA   & NA   & NA   & NA   & NA  \\\\\n",
       "\t2013 & 2464 & 1454 &  NA  & NA   & NA   & NA   & NA   & NA   & NA   & NA  \\\\\n",
       "\t2014 & 1984 &   NA &  NA  & NA   & NA   & NA   & NA   & NA   & NA   & NA  \\\\\n",
       "\\end{tabular}\n"
      ],
      "text/markdown": [
       "\n",
       "| <!--/--> | 1 | 2 | 3 | 4 | 5 | 6 | 7 | 8 | 9 | 10 |\n",
       "|---|---|---|---|---|---|---|---|---|---|---|\n",
       "| 2005 | 1330 |  854 |  82  | 24   |  4   |  0   |  4   |  0   |  0   |  0   |\n",
       "| 2006 | 1330 |  874 |  70  | 26   | 12   |  0   |  0   |  0   |  0   | NA   |\n",
       "| 2007 | 1786 | 1410 | 162  | 62   | 20   |  2   |  2   |  2   | NA   | NA   |\n",
       "| 2008 | 2278 | 1556 | 168  | 46   |  8   |  2   |  4   | NA   | NA   | NA   |\n",
       "| 2009 | 2568 | 1582 | 178  | 54   |  8   |  2   | NA   | NA   | NA   | NA   |\n",
       "| 2010 | 2380 | 1484 | 124  | 36   |  8   | NA   | NA   | NA   | NA   | NA   |\n",
       "| 2011 | 2424 | 1362 | 184  | 56   | NA   | NA   | NA   | NA   | NA   | NA   |\n",
       "| 2012 | 2348 | 1606 | 228  | NA   | NA   | NA   | NA   | NA   | NA   | NA   |\n",
       "| 2013 | 2464 | 1454 |  NA  | NA   | NA   | NA   | NA   | NA   | NA   | NA   |\n",
       "| 2014 | 1984 |   NA |  NA  | NA   | NA   | NA   | NA   | NA   | NA   | NA   |\n",
       "\n"
      ],
      "text/plain": [
       "      dev\n",
       "origin 1    2    3   4  5  6  7  8  9  10\n",
       "  2005 1330  854  82 24  4  0  4  0  0  0\n",
       "  2006 1330  874  70 26 12  0  0  0  0 NA\n",
       "  2007 1786 1410 162 62 20  2  2  2 NA NA\n",
       "  2008 2278 1556 168 46  8  2  4 NA NA NA\n",
       "  2009 2568 1582 178 54  8  2 NA NA NA NA\n",
       "  2010 2380 1484 124 36  8 NA NA NA NA NA\n",
       "  2011 2424 1362 184 56 NA NA NA NA NA NA\n",
       "  2012 2348 1606 228 NA NA NA NA NA NA NA\n",
       "  2013 2464 1454  NA NA NA NA NA NA NA NA\n",
       "  2014 1984   NA  NA NA NA NA NA NA NA NA"
      ]
     },
     "metadata": {},
     "output_type": "display_data"
    }
   ],
   "source": [
    "ouverturesNC[[1]]"
   ]
  },
  {
   "cell_type": "markdown",
   "metadata": {},
   "source": [
    "- Triangle cumulé des ouvertures"
   ]
  },
  {
   "cell_type": "code",
   "execution_count": 3,
   "metadata": {},
   "outputs": [
    {
     "data": {
      "text/html": [
       "<table>\n",
       "<thead><tr><th></th><th scope=col>1</th><th scope=col>2</th><th scope=col>3</th><th scope=col>4</th><th scope=col>5</th><th scope=col>6</th><th scope=col>7</th><th scope=col>8</th><th scope=col>9</th><th scope=col>10</th></tr></thead>\n",
       "<tbody>\n",
       "\t<tr><th scope=row>2005</th><td>1330</td><td>2184</td><td>2266</td><td>2290</td><td>2294</td><td>2294</td><td>2298</td><td>2298</td><td>2298</td><td>2298</td></tr>\n",
       "\t<tr><th scope=row>2006</th><td>1330</td><td>2204</td><td>2274</td><td>2300</td><td>2312</td><td>2312</td><td>2312</td><td>2312</td><td>2312</td><td>  NA</td></tr>\n",
       "\t<tr><th scope=row>2007</th><td>1786</td><td>3196</td><td>3358</td><td>3420</td><td>3440</td><td>3442</td><td>3444</td><td>3446</td><td>  NA</td><td>  NA</td></tr>\n",
       "\t<tr><th scope=row>2008</th><td>2278</td><td>3834</td><td>4002</td><td>4048</td><td>4056</td><td>4058</td><td>4062</td><td>  NA</td><td>  NA</td><td>  NA</td></tr>\n",
       "\t<tr><th scope=row>2009</th><td>2568</td><td>4150</td><td>4328</td><td>4382</td><td>4390</td><td>4392</td><td>  NA</td><td>  NA</td><td>  NA</td><td>  NA</td></tr>\n",
       "\t<tr><th scope=row>2010</th><td>2380</td><td>3864</td><td>3988</td><td>4024</td><td>4032</td><td>  NA</td><td>  NA</td><td>  NA</td><td>  NA</td><td>  NA</td></tr>\n",
       "\t<tr><th scope=row>2011</th><td>2424</td><td>3786</td><td>3970</td><td>4026</td><td>  NA</td><td>  NA</td><td>  NA</td><td>  NA</td><td>  NA</td><td>  NA</td></tr>\n",
       "\t<tr><th scope=row>2012</th><td>2348</td><td>3954</td><td>4182</td><td>  NA</td><td>  NA</td><td>  NA</td><td>  NA</td><td>  NA</td><td>  NA</td><td>  NA</td></tr>\n",
       "\t<tr><th scope=row>2013</th><td>2464</td><td>3918</td><td>  NA</td><td>  NA</td><td>  NA</td><td>  NA</td><td>  NA</td><td>  NA</td><td>  NA</td><td>  NA</td></tr>\n",
       "\t<tr><th scope=row>2014</th><td>1984</td><td>  NA</td><td>  NA</td><td>  NA</td><td>  NA</td><td>  NA</td><td>  NA</td><td>  NA</td><td>  NA</td><td>  NA</td></tr>\n",
       "</tbody>\n",
       "</table>\n"
      ],
      "text/latex": [
       "\\begin{tabular}{r|llllllllll}\n",
       "  & 1 & 2 & 3 & 4 & 5 & 6 & 7 & 8 & 9 & 10\\\\\n",
       "\\hline\n",
       "\t2005 & 1330 & 2184 & 2266 & 2290 & 2294 & 2294 & 2298 & 2298 & 2298 & 2298\\\\\n",
       "\t2006 & 1330 & 2204 & 2274 & 2300 & 2312 & 2312 & 2312 & 2312 & 2312 &   NA\\\\\n",
       "\t2007 & 1786 & 3196 & 3358 & 3420 & 3440 & 3442 & 3444 & 3446 &   NA &   NA\\\\\n",
       "\t2008 & 2278 & 3834 & 4002 & 4048 & 4056 & 4058 & 4062 &   NA &   NA &   NA\\\\\n",
       "\t2009 & 2568 & 4150 & 4328 & 4382 & 4390 & 4392 &   NA &   NA &   NA &   NA\\\\\n",
       "\t2010 & 2380 & 3864 & 3988 & 4024 & 4032 &   NA &   NA &   NA &   NA &   NA\\\\\n",
       "\t2011 & 2424 & 3786 & 3970 & 4026 &   NA &   NA &   NA &   NA &   NA &   NA\\\\\n",
       "\t2012 & 2348 & 3954 & 4182 &   NA &   NA &   NA &   NA &   NA &   NA &   NA\\\\\n",
       "\t2013 & 2464 & 3918 &   NA &   NA &   NA &   NA &   NA &   NA &   NA &   NA\\\\\n",
       "\t2014 & 1984 &   NA &   NA &   NA &   NA &   NA &   NA &   NA &   NA &   NA\\\\\n",
       "\\end{tabular}\n"
      ],
      "text/markdown": [
       "\n",
       "| <!--/--> | 1 | 2 | 3 | 4 | 5 | 6 | 7 | 8 | 9 | 10 |\n",
       "|---|---|---|---|---|---|---|---|---|---|---|\n",
       "| 2005 | 1330 | 2184 | 2266 | 2290 | 2294 | 2294 | 2298 | 2298 | 2298 | 2298 |\n",
       "| 2006 | 1330 | 2204 | 2274 | 2300 | 2312 | 2312 | 2312 | 2312 | 2312 |   NA |\n",
       "| 2007 | 1786 | 3196 | 3358 | 3420 | 3440 | 3442 | 3444 | 3446 |   NA |   NA |\n",
       "| 2008 | 2278 | 3834 | 4002 | 4048 | 4056 | 4058 | 4062 |   NA |   NA |   NA |\n",
       "| 2009 | 2568 | 4150 | 4328 | 4382 | 4390 | 4392 |   NA |   NA |   NA |   NA |\n",
       "| 2010 | 2380 | 3864 | 3988 | 4024 | 4032 |   NA |   NA |   NA |   NA |   NA |\n",
       "| 2011 | 2424 | 3786 | 3970 | 4026 |   NA |   NA |   NA |   NA |   NA |   NA |\n",
       "| 2012 | 2348 | 3954 | 4182 |   NA |   NA |   NA |   NA |   NA |   NA |   NA |\n",
       "| 2013 | 2464 | 3918 |   NA |   NA |   NA |   NA |   NA |   NA |   NA |   NA |\n",
       "| 2014 | 1984 |   NA |   NA |   NA |   NA |   NA |   NA |   NA |   NA |   NA |\n",
       "\n"
      ],
      "text/plain": [
       "      dev\n",
       "origin 1    2    3    4    5    6    7    8    9    10  \n",
       "  2005 1330 2184 2266 2290 2294 2294 2298 2298 2298 2298\n",
       "  2006 1330 2204 2274 2300 2312 2312 2312 2312 2312   NA\n",
       "  2007 1786 3196 3358 3420 3440 3442 3444 3446   NA   NA\n",
       "  2008 2278 3834 4002 4048 4056 4058 4062   NA   NA   NA\n",
       "  2009 2568 4150 4328 4382 4390 4392   NA   NA   NA   NA\n",
       "  2010 2380 3864 3988 4024 4032   NA   NA   NA   NA   NA\n",
       "  2011 2424 3786 3970 4026   NA   NA   NA   NA   NA   NA\n",
       "  2012 2348 3954 4182   NA   NA   NA   NA   NA   NA   NA\n",
       "  2013 2464 3918   NA   NA   NA   NA   NA   NA   NA   NA\n",
       "  2014 1984   NA   NA   NA   NA   NA   NA   NA   NA   NA"
      ]
     },
     "metadata": {},
     "output_type": "display_data"
    }
   ],
   "source": [
    "ouvertures[[1]]"
   ]
  },
  {
   "cell_type": "code",
   "execution_count": 50,
   "metadata": {},
   "outputs": [
    {
     "data": {
      "image/png": "[encoded data removed]",
      "text/plain": [
       "Plot with title \"Ouvertures durant l année de survenance\""
      ]
     },
     "metadata": {},
     "output_type": "display_data"
    }
   ],
   "source": [
    "plot(ouvertures[[1]][,1],type='l',col='blue',ylab = 'Ouvertures',xlab='année',xaxt=\"n\",main = 'Ouvertures durant l année de survenance')\n",
    "axis(1, at=1:10, labels=2005:2014)"
   ]
  },
  {
   "cell_type": "markdown",
   "metadata": {},
   "source": [
    "L'année 2009 s'annonce critique dès son achèvement en termes d'ouvertures."
   ]
  },
  {
   "cell_type": "code",
   "execution_count": 24,
   "metadata": {},
   "outputs": [
    {
     "data": {
      "image/png": "[encoded data removed]",
      "text/plain": [
       "Plot with title \"Nombre de sinistres cumulés par année de survenance\""
      ]
     },
     "metadata": {},
     "output_type": "display_data"
    }
   ],
   "source": [
    "plot(ouvertures[[1]],main = 'Nombre de sinistres cumulés par année de survenance',cex = 0.8)"
   ]
  },
  {
   "cell_type": "code",
   "execution_count": 22,
   "metadata": {},
   "outputs": [
    {
     "data": {
      "image/png": "[encoded data removed]",
      "text/plain": [
       "plot without title"
      ]
     },
     "metadata": {},
     "output_type": "display_data"
    }
   ],
   "source": [
    "plot(ouvertures[[1]], lattice=TRUE, main = 'Nombre de sinistres cumulés par année de survenance')"
   ]
  },
  {
   "cell_type": "markdown",
   "metadata": {},
   "source": [
    "On remarque que le **nombre de sinistres survenus durant 2005 et 2006** est nettement **inférieur que ceux survenus depuis 2007** pour enregistrer en **2009** une valeur extrême de **4392 sinistres**.\n",
    "\n",
    "De plus, la moitié (à peu près) des sinistres survenus par année sont ouverts l'année même de la survenance. Ceci est valable pour toutes les années.<br>"
   ]
  },
  {
   "cell_type": "markdown",
   "metadata": {},
   "source": [
    "<br>"
   ]
  },
  {
   "cell_type": "markdown",
   "metadata": {},
   "source": [
    "- Triangle des réglements"
   ]
  },
  {
   "cell_type": "code",
   "execution_count": 59,
   "metadata": {},
   "outputs": [
    {
     "data": {
      "text/html": [
       "<table>\n",
       "<thead><tr><th></th><th scope=col>1</th><th scope=col>2</th><th scope=col>3</th><th scope=col>4</th><th scope=col>5</th><th scope=col>6</th><th scope=col>7</th><th scope=col>8</th><th scope=col>9</th><th scope=col>10</th></tr></thead>\n",
       "<tbody>\n",
       "\t<tr><th scope=row>2005</th><td>1171960.1</td><td> 6604454 </td><td> 7247851 </td><td>4476007  </td><td>2140354  </td><td>1315501  </td><td>1500734.7</td><td>495272.2 </td><td>264542.2 </td><td>91392.43 </td></tr>\n",
       "\t<tr><th scope=row>2006</th><td> 803251.2</td><td> 3936933 </td><td> 7216462 </td><td>5498608  </td><td>2076533  </td><td>2775363  </td><td> 749770.3</td><td>348476.6 </td><td>327901.6 </td><td>      NA </td></tr>\n",
       "\t<tr><th scope=row>2007</th><td> 360204.7</td><td> 3305002 </td><td> 7954925 </td><td>5121387  </td><td>3134808  </td><td>1652229  </td><td>1525123.8</td><td>688868.6 </td><td>      NA </td><td>      NA </td></tr>\n",
       "\t<tr><th scope=row>2008</th><td> 639280.7</td><td> 5118946 </td><td> 8945907 </td><td>8464976  </td><td>4141026  </td><td>1430473  </td><td> 695915.9</td><td>      NA </td><td>      NA </td><td>      NA </td></tr>\n",
       "\t<tr><th scope=row>2009</th><td>1345321.2</td><td> 7380489 </td><td>13706351 </td><td>8043920  </td><td>3263113  </td><td>1278109  </td><td>       NA</td><td>      NA </td><td>      NA </td><td>      NA </td></tr>\n",
       "\t<tr><th scope=row>2010</th><td>1613626.7</td><td>10069551 </td><td>13520486 </td><td>6380116  </td><td>3886241  </td><td>     NA  </td><td>       NA</td><td>      NA </td><td>      NA </td><td>      NA </td></tr>\n",
       "\t<tr><th scope=row>2011</th><td>1484186.6</td><td> 9634063 </td><td>10671624 </td><td>5886916  </td><td>     NA  </td><td>     NA  </td><td>       NA</td><td>      NA </td><td>      NA </td><td>      NA </td></tr>\n",
       "\t<tr><th scope=row>2012</th><td>2907654.8</td><td>10322393 </td><td> 8763518 </td><td>     NA  </td><td>     NA  </td><td>     NA  </td><td>       NA</td><td>      NA </td><td>      NA </td><td>      NA </td></tr>\n",
       "\t<tr><th scope=row>2013</th><td>3465668.7</td><td> 9640431 </td><td>      NA </td><td>     NA  </td><td>     NA  </td><td>     NA  </td><td>       NA</td><td>      NA </td><td>      NA </td><td>      NA </td></tr>\n",
       "\t<tr><th scope=row>2014</th><td>3619805.3</td><td>      NA </td><td>      NA </td><td>     NA  </td><td>     NA  </td><td>     NA  </td><td>       NA</td><td>      NA </td><td>      NA </td><td>      NA </td></tr>\n",
       "</tbody>\n",
       "</table>\n"
      ],
      "text/latex": [
       "\\begin{tabular}{r|llllllllll}\n",
       "  & 1 & 2 & 3 & 4 & 5 & 6 & 7 & 8 & 9 & 10\\\\\n",
       "\\hline\n",
       "\t2005 & 1171960.1 &  6604454  &  7247851  & 4476007   & 2140354   & 1315501   & 1500734.7 & 495272.2  & 264542.2  & 91392.43 \\\\\n",
       "\t2006 &  803251.2 &  3936933  &  7216462  & 5498608   & 2076533   & 2775363   &  749770.3 & 348476.6  & 327901.6  &       NA \\\\\n",
       "\t2007 &  360204.7 &  3305002  &  7954925  & 5121387   & 3134808   & 1652229   & 1525123.8 & 688868.6  &       NA  &       NA \\\\\n",
       "\t2008 &  639280.7 &  5118946  &  8945907  & 8464976   & 4141026   & 1430473   &  695915.9 &       NA  &       NA  &       NA \\\\\n",
       "\t2009 & 1345321.2 &  7380489  & 13706351  & 8043920   & 3263113   & 1278109   &        NA &       NA  &       NA  &       NA \\\\\n",
       "\t2010 & 1613626.7 & 10069551  & 13520486  & 6380116   & 3886241   &      NA   &        NA &       NA  &       NA  &       NA \\\\\n",
       "\t2011 & 1484186.6 &  9634063  & 10671624  & 5886916   &      NA   &      NA   &        NA &       NA  &       NA  &       NA \\\\\n",
       "\t2012 & 2907654.8 & 10322393  &  8763518  &      NA   &      NA   &      NA   &        NA &       NA  &       NA  &       NA \\\\\n",
       "\t2013 & 3465668.7 &  9640431  &       NA  &      NA   &      NA   &      NA   &        NA &       NA  &       NA  &       NA \\\\\n",
       "\t2014 & 3619805.3 &       NA  &       NA  &      NA   &      NA   &      NA   &        NA &       NA  &       NA  &       NA \\\\\n",
       "\\end{tabular}\n"
      ],
      "text/markdown": [
       "\n",
       "| <!--/--> | 1 | 2 | 3 | 4 | 5 | 6 | 7 | 8 | 9 | 10 |\n",
       "|---|---|---|---|---|---|---|---|---|---|---|\n",
       "| 2005 | 1171960.1 |  6604454  |  7247851  | 4476007   | 2140354   | 1315501   | 1500734.7 | 495272.2  | 264542.2  | 91392.43  |\n",
       "| 2006 |  803251.2 |  3936933  |  7216462  | 5498608   | 2076533   | 2775363   |  749770.3 | 348476.6  | 327901.6  |       NA  |\n",
       "| 2007 |  360204.7 |  3305002  |  7954925  | 5121387   | 3134808   | 1652229   | 1525123.8 | 688868.6  |       NA  |       NA  |\n",
       "| 2008 |  639280.7 |  5118946  |  8945907  | 8464976   | 4141026   | 1430473   |  695915.9 |       NA  |       NA  |       NA  |\n",
       "| 2009 | 1345321.2 |  7380489  | 13706351  | 8043920   | 3263113   | 1278109   |        NA |       NA  |       NA  |       NA  |\n",
       "| 2010 | 1613626.7 | 10069551  | 13520486  | 6380116   | 3886241   |      NA   |        NA |       NA  |       NA  |       NA  |\n",
       "| 2011 | 1484186.6 |  9634063  | 10671624  | 5886916   |      NA   |      NA   |        NA |       NA  |       NA  |       NA  |\n",
       "| 2012 | 2907654.8 | 10322393  |  8763518  |      NA   |      NA   |      NA   |        NA |       NA  |       NA  |       NA  |\n",
       "| 2013 | 3465668.7 |  9640431  |       NA  |      NA   |      NA   |      NA   |        NA |       NA  |       NA  |       NA  |\n",
       "| 2014 | 3619805.3 |       NA  |       NA  |      NA   |      NA   |      NA   |        NA |       NA  |       NA  |       NA  |\n",
       "\n"
      ],
      "text/plain": [
       "      dev\n",
       "origin 1         2        3        4       5       6       7         8       \n",
       "  2005 1171960.1  6604454  7247851 4476007 2140354 1315501 1500734.7 495272.2\n",
       "  2006  803251.2  3936933  7216462 5498608 2076533 2775363  749770.3 348476.6\n",
       "  2007  360204.7  3305002  7954925 5121387 3134808 1652229 1525123.8 688868.6\n",
       "  2008  639280.7  5118946  8945907 8464976 4141026 1430473  695915.9       NA\n",
       "  2009 1345321.2  7380489 13706351 8043920 3263113 1278109        NA       NA\n",
       "  2010 1613626.7 10069551 13520486 6380116 3886241      NA        NA       NA\n",
       "  2011 1484186.6  9634063 10671624 5886916      NA      NA        NA       NA\n",
       "  2012 2907654.8 10322393  8763518      NA      NA      NA        NA       NA\n",
       "  2013 3465668.7  9640431       NA      NA      NA      NA        NA       NA\n",
       "  2014 3619805.3       NA       NA      NA      NA      NA        NA       NA\n",
       "      dev\n",
       "origin 9        10      \n",
       "  2005 264542.2 91392.43\n",
       "  2006 327901.6       NA\n",
       "  2007       NA       NA\n",
       "  2008       NA       NA\n",
       "  2009       NA       NA\n",
       "  2010       NA       NA\n",
       "  2011       NA       NA\n",
       "  2012       NA       NA\n",
       "  2013       NA       NA\n",
       "  2014       NA       NA"
      ]
     },
     "metadata": {},
     "output_type": "display_data"
    }
   ],
   "source": [
    "regNC[[1]]"
   ]
  },
  {
   "cell_type": "markdown",
   "metadata": {},
   "source": [
    "- Triangle cumulé des réglements"
   ]
  },
  {
   "cell_type": "code",
   "execution_count": 4,
   "metadata": {},
   "outputs": [
    {
     "data": {
      "text/html": [
       "<table>\n",
       "<thead><tr><th></th><th scope=col>1</th><th scope=col>2</th><th scope=col>3</th><th scope=col>4</th><th scope=col>5</th><th scope=col>6</th><th scope=col>7</th><th scope=col>8</th><th scope=col>9</th><th scope=col>10</th></tr></thead>\n",
       "<tbody>\n",
       "\t<tr><th scope=row>2005</th><td>1171960.1</td><td> 7776414 </td><td>15024265 </td><td>19500271 </td><td>21640625 </td><td>22956126 </td><td>24456861 </td><td>24952133 </td><td>25216675 </td><td>25308068 </td></tr>\n",
       "\t<tr><th scope=row>2006</th><td> 803251.2</td><td> 4740185 </td><td>11956646 </td><td>17455255 </td><td>19531788 </td><td>22307151 </td><td>23056921 </td><td>23405397 </td><td>23733299 </td><td>      NA </td></tr>\n",
       "\t<tr><th scope=row>2007</th><td> 360204.7</td><td> 3665206 </td><td>11620131 </td><td>16741518 </td><td>19876326 </td><td>21528555 </td><td>23053679 </td><td>23742548 </td><td>      NA </td><td>      NA </td></tr>\n",
       "\t<tr><th scope=row>2008</th><td> 639280.7</td><td> 5758227 </td><td>14704134 </td><td>23169110 </td><td>27310136 </td><td>28740608 </td><td>29436524 </td><td>      NA </td><td>      NA </td><td>      NA </td></tr>\n",
       "\t<tr><th scope=row>2009</th><td>1345321.2</td><td> 8725810 </td><td>22432161 </td><td>30476081 </td><td>33739194 </td><td>35017303 </td><td>      NA </td><td>      NA </td><td>      NA </td><td>      NA </td></tr>\n",
       "\t<tr><th scope=row>2010</th><td>1613626.7</td><td>11683178 </td><td>25203664 </td><td>31583780 </td><td>35470021 </td><td>      NA </td><td>      NA </td><td>      NA </td><td>      NA </td><td>      NA </td></tr>\n",
       "\t<tr><th scope=row>2011</th><td>1484186.6</td><td>11118250 </td><td>21789874 </td><td>27676791 </td><td>      NA </td><td>      NA </td><td>      NA </td><td>      NA </td><td>      NA </td><td>      NA </td></tr>\n",
       "\t<tr><th scope=row>2012</th><td>2907654.8</td><td>13230048 </td><td>21993565 </td><td>      NA </td><td>      NA </td><td>      NA </td><td>      NA </td><td>      NA </td><td>      NA </td><td>      NA </td></tr>\n",
       "\t<tr><th scope=row>2013</th><td>3465668.7</td><td>13106099 </td><td>      NA </td><td>      NA </td><td>      NA </td><td>      NA </td><td>      NA </td><td>      NA </td><td>      NA </td><td>      NA </td></tr>\n",
       "\t<tr><th scope=row>2014</th><td>3619805.3</td><td>      NA </td><td>      NA </td><td>      NA </td><td>      NA </td><td>      NA </td><td>      NA </td><td>      NA </td><td>      NA </td><td>      NA </td></tr>\n",
       "</tbody>\n",
       "</table>\n"
      ],
      "text/latex": [
       "\\begin{tabular}{r|llllllllll}\n",
       "  & 1 & 2 & 3 & 4 & 5 & 6 & 7 & 8 & 9 & 10\\\\\n",
       "\\hline\n",
       "\t2005 & 1171960.1 &  7776414  & 15024265  & 19500271  & 21640625  & 22956126  & 24456861  & 24952133  & 25216675  & 25308068 \\\\\n",
       "\t2006 &  803251.2 &  4740185  & 11956646  & 17455255  & 19531788  & 22307151  & 23056921  & 23405397  & 23733299  &       NA \\\\\n",
       "\t2007 &  360204.7 &  3665206  & 11620131  & 16741518  & 19876326  & 21528555  & 23053679  & 23742548  &       NA  &       NA \\\\\n",
       "\t2008 &  639280.7 &  5758227  & 14704134  & 23169110  & 27310136  & 28740608  & 29436524  &       NA  &       NA  &       NA \\\\\n",
       "\t2009 & 1345321.2 &  8725810  & 22432161  & 30476081  & 33739194  & 35017303  &       NA  &       NA  &       NA  &       NA \\\\\n",
       "\t2010 & 1613626.7 & 11683178  & 25203664  & 31583780  & 35470021  &       NA  &       NA  &       NA  &       NA  &       NA \\\\\n",
       "\t2011 & 1484186.6 & 11118250  & 21789874  & 27676791  &       NA  &       NA  &       NA  &       NA  &       NA  &       NA \\\\\n",
       "\t2012 & 2907654.8 & 13230048  & 21993565  &       NA  &       NA  &       NA  &       NA  &       NA  &       NA  &       NA \\\\\n",
       "\t2013 & 3465668.7 & 13106099  &       NA  &       NA  &       NA  &       NA  &       NA  &       NA  &       NA  &       NA \\\\\n",
       "\t2014 & 3619805.3 &       NA  &       NA  &       NA  &       NA  &       NA  &       NA  &       NA  &       NA  &       NA \\\\\n",
       "\\end{tabular}\n"
      ],
      "text/markdown": [
       "\n",
       "| <!--/--> | 1 | 2 | 3 | 4 | 5 | 6 | 7 | 8 | 9 | 10 |\n",
       "|---|---|---|---|---|---|---|---|---|---|---|\n",
       "| 2005 | 1171960.1 |  7776414  | 15024265  | 19500271  | 21640625  | 22956126  | 24456861  | 24952133  | 25216675  | 25308068  |\n",
       "| 2006 |  803251.2 |  4740185  | 11956646  | 17455255  | 19531788  | 22307151  | 23056921  | 23405397  | 23733299  |       NA  |\n",
       "| 2007 |  360204.7 |  3665206  | 11620131  | 16741518  | 19876326  | 21528555  | 23053679  | 23742548  |       NA  |       NA  |\n",
       "| 2008 |  639280.7 |  5758227  | 14704134  | 23169110  | 27310136  | 28740608  | 29436524  |       NA  |       NA  |       NA  |\n",
       "| 2009 | 1345321.2 |  8725810  | 22432161  | 30476081  | 33739194  | 35017303  |       NA  |       NA  |       NA  |       NA  |\n",
       "| 2010 | 1613626.7 | 11683178  | 25203664  | 31583780  | 35470021  |       NA  |       NA  |       NA  |       NA  |       NA  |\n",
       "| 2011 | 1484186.6 | 11118250  | 21789874  | 27676791  |       NA  |       NA  |       NA  |       NA  |       NA  |       NA  |\n",
       "| 2012 | 2907654.8 | 13230048  | 21993565  |       NA  |       NA  |       NA  |       NA  |       NA  |       NA  |       NA  |\n",
       "| 2013 | 3465668.7 | 13106099  |       NA  |       NA  |       NA  |       NA  |       NA  |       NA  |       NA  |       NA  |\n",
       "| 2014 | 3619805.3 |       NA  |       NA  |       NA  |       NA  |       NA  |       NA  |       NA  |       NA  |       NA  |\n",
       "\n"
      ],
      "text/plain": [
       "      dev\n",
       "origin 1         2        3        4        5        6        7        8       \n",
       "  2005 1171960.1  7776414 15024265 19500271 21640625 22956126 24456861 24952133\n",
       "  2006  803251.2  4740185 11956646 17455255 19531788 22307151 23056921 23405397\n",
       "  2007  360204.7  3665206 11620131 16741518 19876326 21528555 23053679 23742548\n",
       "  2008  639280.7  5758227 14704134 23169110 27310136 28740608 29436524       NA\n",
       "  2009 1345321.2  8725810 22432161 30476081 33739194 35017303       NA       NA\n",
       "  2010 1613626.7 11683178 25203664 31583780 35470021       NA       NA       NA\n",
       "  2011 1484186.6 11118250 21789874 27676791       NA       NA       NA       NA\n",
       "  2012 2907654.8 13230048 21993565       NA       NA       NA       NA       NA\n",
       "  2013 3465668.7 13106099       NA       NA       NA       NA       NA       NA\n",
       "  2014 3619805.3       NA       NA       NA       NA       NA       NA       NA\n",
       "      dev\n",
       "origin 9        10      \n",
       "  2005 25216675 25308068\n",
       "  2006 23733299       NA\n",
       "  2007       NA       NA\n",
       "  2008       NA       NA\n",
       "  2009       NA       NA\n",
       "  2010       NA       NA\n",
       "  2011       NA       NA\n",
       "  2012       NA       NA\n",
       "  2013       NA       NA\n",
       "  2014       NA       NA"
      ]
     },
     "metadata": {},
     "output_type": "display_data"
    }
   ],
   "source": [
    "reg[[1]]"
   ]
  },
  {
   "cell_type": "code",
   "execution_count": 51,
   "metadata": {},
   "outputs": [
    {
     "data": {
      "image/png": "[encoded data removed]",
      "text/plain": [
       "Plot with title \"Réglements durant l_année de survenance\""
      ]
     },
     "metadata": {},
     "output_type": "display_data"
    }
   ],
   "source": [
    "plot(reg[[1]][,1],type='l', col='red',ylab = 'Réglements',xlab='année',xaxt=\"n\",main = 'Réglements durant l_année de survenance')\n",
    "axis(1, at=1:10, labels=2005:2014)"
   ]
  },
  {
   "cell_type": "markdown",
   "metadata": {},
   "source": [
    "Les réglements des sinistres survenus en 2014 et ouverts en 2014 s'avèrent élevés.<br>En d'autres termes les sinistres survenus en 2014 sont très coûteux."
   ]
  },
  {
   "cell_type": "code",
   "execution_count": 23,
   "metadata": {},
   "outputs": [
    {
     "data": {
      "image/png": "[encoded data removed]",
      "text/plain": [
       "Plot with title \"Réglements cumulés par année de survenance\""
      ]
     },
     "metadata": {},
     "output_type": "display_data"
    }
   ],
   "source": [
    "plot(reg[[1]], main = 'Réglements cumulés par année de survenance', cex = 0.8)"
   ]
  },
  {
   "cell_type": "code",
   "execution_count": 25,
   "metadata": {},
   "outputs": [
    {
     "data": {
      "image/png": "[encoded data removed]",
      "text/plain": [
       "plot without title"
      ]
     },
     "metadata": {},
     "output_type": "display_data"
    }
   ],
   "source": [
    "plot(reg[[1]], lattice=TRUE, main = 'Réglements cumulés par année de survenance', cex = 0.8)"
   ]
  },
  {
   "cell_type": "markdown",
   "metadata": {},
   "source": [
    "Même si le **nombre de sinistres** survenus en 2009 est supérieur à celui de 2010 (**4392 en 2009** contre **4032 en 2010**), les **réglements des sinistres** survenus en 2010 dépassent ceux de 2009: **35,470,021 en 2010** contre **35,017,303 en 2009**."
   ]
  },
  {
   "cell_type": "markdown",
   "metadata": {},
   "source": [
    "<br>"
   ]
  },
  {
   "cell_type": "markdown",
   "metadata": {},
   "source": [
    "- Triangle des PSAP"
   ]
  },
  {
   "cell_type": "code",
   "execution_count": 60,
   "metadata": {},
   "outputs": [
    {
     "data": {
      "text/html": [
       "<table>\n",
       "<thead><tr><th></th><th scope=col>1</th><th scope=col>2</th><th scope=col>3</th><th scope=col>4</th><th scope=col>5</th><th scope=col>6</th><th scope=col>7</th><th scope=col>8</th><th scope=col>9</th><th scope=col>10</th></tr></thead>\n",
       "<tbody>\n",
       "\t<tr><th scope=row>2005</th><td>23874002</td><td>23178206</td><td>18026468</td><td>11849698</td><td> 9111046</td><td> 6843142</td><td>4701790 </td><td>3444456 </td><td>2515838 </td><td>2444540 </td></tr>\n",
       "\t<tr><th scope=row>2006</th><td>22085614</td><td>28058028</td><td>20672062</td><td>14678202</td><td>11230620</td><td> 6517368</td><td>5117986 </td><td>3935008 </td><td>3139640 </td><td>     NA </td></tr>\n",
       "\t<tr><th scope=row>2007</th><td>23118624</td><td>31740206</td><td>25609466</td><td>19754562</td><td>14177400</td><td> 9873226</td><td>7208260 </td><td>6141802 </td><td>     NA </td><td>     NA </td></tr>\n",
       "\t<tr><th scope=row>2008</th><td>28120022</td><td>36959930</td><td>29915414</td><td>20552368</td><td>13302814</td><td>10257336</td><td>8593504 </td><td>     NA </td><td>     NA </td><td>     NA </td></tr>\n",
       "\t<tr><th scope=row>2009</th><td>32313102</td><td>47994544</td><td>35683828</td><td>25996196</td><td>18725502</td><td>15631064</td><td>     NA </td><td>     NA </td><td>     NA </td><td>     NA </td></tr>\n",
       "\t<tr><th scope=row>2010</th><td>38381884</td><td>44601906</td><td>30802126</td><td>21398782</td><td>15144404</td><td>      NA</td><td>     NA </td><td>     NA </td><td>     NA </td><td>     NA </td></tr>\n",
       "\t<tr><th scope=row>2011</th><td>37425888</td><td>44453312</td><td>31268938</td><td>22448622</td><td>      NA</td><td>      NA</td><td>     NA </td><td>     NA </td><td>     NA </td><td>     NA </td></tr>\n",
       "\t<tr><th scope=row>2012</th><td>48681726</td><td>51996108</td><td>43854842</td><td>      NA</td><td>      NA</td><td>      NA</td><td>     NA </td><td>     NA </td><td>     NA </td><td>     NA </td></tr>\n",
       "\t<tr><th scope=row>2013</th><td>44363544</td><td>51431152</td><td>      NA</td><td>      NA</td><td>      NA</td><td>      NA</td><td>     NA </td><td>     NA </td><td>     NA </td><td>     NA </td></tr>\n",
       "\t<tr><th scope=row>2014</th><td>39611624</td><td>      NA</td><td>      NA</td><td>      NA</td><td>      NA</td><td>      NA</td><td>     NA </td><td>     NA </td><td>     NA </td><td>     NA </td></tr>\n",
       "</tbody>\n",
       "</table>\n"
      ],
      "text/latex": [
       "\\begin{tabular}{r|llllllllll}\n",
       "  & 1 & 2 & 3 & 4 & 5 & 6 & 7 & 8 & 9 & 10\\\\\n",
       "\\hline\n",
       "\t2005 & 23874002 & 23178206 & 18026468 & 11849698 &  9111046 &  6843142 & 4701790  & 3444456  & 2515838  & 2444540 \\\\\n",
       "\t2006 & 22085614 & 28058028 & 20672062 & 14678202 & 11230620 &  6517368 & 5117986  & 3935008  & 3139640  &      NA \\\\\n",
       "\t2007 & 23118624 & 31740206 & 25609466 & 19754562 & 14177400 &  9873226 & 7208260  & 6141802  &      NA  &      NA \\\\\n",
       "\t2008 & 28120022 & 36959930 & 29915414 & 20552368 & 13302814 & 10257336 & 8593504  &      NA  &      NA  &      NA \\\\\n",
       "\t2009 & 32313102 & 47994544 & 35683828 & 25996196 & 18725502 & 15631064 &      NA  &      NA  &      NA  &      NA \\\\\n",
       "\t2010 & 38381884 & 44601906 & 30802126 & 21398782 & 15144404 &       NA &      NA  &      NA  &      NA  &      NA \\\\\n",
       "\t2011 & 37425888 & 44453312 & 31268938 & 22448622 &       NA &       NA &      NA  &      NA  &      NA  &      NA \\\\\n",
       "\t2012 & 48681726 & 51996108 & 43854842 &       NA &       NA &       NA &      NA  &      NA  &      NA  &      NA \\\\\n",
       "\t2013 & 44363544 & 51431152 &       NA &       NA &       NA &       NA &      NA  &      NA  &      NA  &      NA \\\\\n",
       "\t2014 & 39611624 &       NA &       NA &       NA &       NA &       NA &      NA  &      NA  &      NA  &      NA \\\\\n",
       "\\end{tabular}\n"
      ],
      "text/markdown": [
       "\n",
       "| <!--/--> | 1 | 2 | 3 | 4 | 5 | 6 | 7 | 8 | 9 | 10 |\n",
       "|---|---|---|---|---|---|---|---|---|---|---|\n",
       "| 2005 | 23874002 | 23178206 | 18026468 | 11849698 |  9111046 |  6843142 | 4701790  | 3444456  | 2515838  | 2444540  |\n",
       "| 2006 | 22085614 | 28058028 | 20672062 | 14678202 | 11230620 |  6517368 | 5117986  | 3935008  | 3139640  |      NA  |\n",
       "| 2007 | 23118624 | 31740206 | 25609466 | 19754562 | 14177400 |  9873226 | 7208260  | 6141802  |      NA  |      NA  |\n",
       "| 2008 | 28120022 | 36959930 | 29915414 | 20552368 | 13302814 | 10257336 | 8593504  |      NA  |      NA  |      NA  |\n",
       "| 2009 | 32313102 | 47994544 | 35683828 | 25996196 | 18725502 | 15631064 |      NA  |      NA  |      NA  |      NA  |\n",
       "| 2010 | 38381884 | 44601906 | 30802126 | 21398782 | 15144404 |       NA |      NA  |      NA  |      NA  |      NA  |\n",
       "| 2011 | 37425888 | 44453312 | 31268938 | 22448622 |       NA |       NA |      NA  |      NA  |      NA  |      NA  |\n",
       "| 2012 | 48681726 | 51996108 | 43854842 |       NA |       NA |       NA |      NA  |      NA  |      NA  |      NA  |\n",
       "| 2013 | 44363544 | 51431152 |       NA |       NA |       NA |       NA |      NA  |      NA  |      NA  |      NA  |\n",
       "| 2014 | 39611624 |       NA |       NA |       NA |       NA |       NA |      NA  |      NA  |      NA  |      NA  |\n",
       "\n"
      ],
      "text/plain": [
       "      dev\n",
       "origin 1        2        3        4        5        6        7       8      \n",
       "  2005 23874002 23178206 18026468 11849698  9111046  6843142 4701790 3444456\n",
       "  2006 22085614 28058028 20672062 14678202 11230620  6517368 5117986 3935008\n",
       "  2007 23118624 31740206 25609466 19754562 14177400  9873226 7208260 6141802\n",
       "  2008 28120022 36959930 29915414 20552368 13302814 10257336 8593504      NA\n",
       "  2009 32313102 47994544 35683828 25996196 18725502 15631064      NA      NA\n",
       "  2010 38381884 44601906 30802126 21398782 15144404       NA      NA      NA\n",
       "  2011 37425888 44453312 31268938 22448622       NA       NA      NA      NA\n",
       "  2012 48681726 51996108 43854842       NA       NA       NA      NA      NA\n",
       "  2013 44363544 51431152       NA       NA       NA       NA      NA      NA\n",
       "  2014 39611624       NA       NA       NA       NA       NA      NA      NA\n",
       "      dev\n",
       "origin 9       10     \n",
       "  2005 2515838 2444540\n",
       "  2006 3139640      NA\n",
       "  2007      NA      NA\n",
       "  2008      NA      NA\n",
       "  2009      NA      NA\n",
       "  2010      NA      NA\n",
       "  2011      NA      NA\n",
       "  2012      NA      NA\n",
       "  2013      NA      NA\n",
       "  2014      NA      NA"
      ]
     },
     "metadata": {},
     "output_type": "display_data"
    }
   ],
   "source": [
    "psapNC[[1]]"
   ]
  },
  {
   "cell_type": "markdown",
   "metadata": {},
   "source": [
    "- Triangle cumulé des PSAP"
   ]
  },
  {
   "cell_type": "code",
   "execution_count": 5,
   "metadata": {},
   "outputs": [
    {
     "data": {
      "text/html": [
       "<table>\n",
       "<thead><tr><th></th><th scope=col>1</th><th scope=col>2</th><th scope=col>3</th><th scope=col>4</th><th scope=col>5</th><th scope=col>6</th><th scope=col>7</th><th scope=col>8</th><th scope=col>9</th><th scope=col>10</th></tr></thead>\n",
       "<tbody>\n",
       "\t<tr><th scope=row>2005</th><td>23874002 </td><td> 47052208</td><td> 65078676</td><td> 76928374</td><td> 86039420</td><td> 92882562</td><td> 97584352</td><td>101028808</td><td>103544646</td><td>105989186</td></tr>\n",
       "\t<tr><th scope=row>2006</th><td>22085614 </td><td> 50143642</td><td> 70815704</td><td> 85493906</td><td> 96724526</td><td>103241894</td><td>108359880</td><td>112294888</td><td>115434528</td><td>       NA</td></tr>\n",
       "\t<tr><th scope=row>2007</th><td>23118624 </td><td> 54858830</td><td> 80468296</td><td>100222858</td><td>114400258</td><td>124273484</td><td>131481744</td><td>137623546</td><td>       NA</td><td>       NA</td></tr>\n",
       "\t<tr><th scope=row>2008</th><td>28120022 </td><td> 65079952</td><td> 94995366</td><td>115547734</td><td>128850548</td><td>139107884</td><td>147701388</td><td>       NA</td><td>       NA</td><td>       NA</td></tr>\n",
       "\t<tr><th scope=row>2009</th><td>32313102 </td><td> 80307646</td><td>115991474</td><td>141987670</td><td>160713172</td><td>176344236</td><td>       NA</td><td>       NA</td><td>       NA</td><td>       NA</td></tr>\n",
       "\t<tr><th scope=row>2010</th><td>38381884 </td><td> 82983790</td><td>113785916</td><td>135184698</td><td>150329102</td><td>       NA</td><td>       NA</td><td>       NA</td><td>       NA</td><td>       NA</td></tr>\n",
       "\t<tr><th scope=row>2011</th><td>37425888 </td><td> 81879200</td><td>113148138</td><td>135596760</td><td>       NA</td><td>       NA</td><td>       NA</td><td>       NA</td><td>       NA</td><td>       NA</td></tr>\n",
       "\t<tr><th scope=row>2012</th><td>48681726 </td><td>100677834</td><td>144532676</td><td>       NA</td><td>       NA</td><td>       NA</td><td>       NA</td><td>       NA</td><td>       NA</td><td>       NA</td></tr>\n",
       "\t<tr><th scope=row>2013</th><td>44363544 </td><td> 95794696</td><td>       NA</td><td>       NA</td><td>       NA</td><td>       NA</td><td>       NA</td><td>       NA</td><td>       NA</td><td>       NA</td></tr>\n",
       "\t<tr><th scope=row>2014</th><td>39611624 </td><td>       NA</td><td>       NA</td><td>       NA</td><td>       NA</td><td>       NA</td><td>       NA</td><td>       NA</td><td>       NA</td><td>       NA</td></tr>\n",
       "</tbody>\n",
       "</table>\n"
      ],
      "text/latex": [
       "\\begin{tabular}{r|llllllllll}\n",
       "  & 1 & 2 & 3 & 4 & 5 & 6 & 7 & 8 & 9 & 10\\\\\n",
       "\\hline\n",
       "\t2005 & 23874002  &  47052208 &  65078676 &  76928374 &  86039420 &  92882562 &  97584352 & 101028808 & 103544646 & 105989186\\\\\n",
       "\t2006 & 22085614  &  50143642 &  70815704 &  85493906 &  96724526 & 103241894 & 108359880 & 112294888 & 115434528 &        NA\\\\\n",
       "\t2007 & 23118624  &  54858830 &  80468296 & 100222858 & 114400258 & 124273484 & 131481744 & 137623546 &        NA &        NA\\\\\n",
       "\t2008 & 28120022  &  65079952 &  94995366 & 115547734 & 128850548 & 139107884 & 147701388 &        NA &        NA &        NA\\\\\n",
       "\t2009 & 32313102  &  80307646 & 115991474 & 141987670 & 160713172 & 176344236 &        NA &        NA &        NA &        NA\\\\\n",
       "\t2010 & 38381884  &  82983790 & 113785916 & 135184698 & 150329102 &        NA &        NA &        NA &        NA &        NA\\\\\n",
       "\t2011 & 37425888  &  81879200 & 113148138 & 135596760 &        NA &        NA &        NA &        NA &        NA &        NA\\\\\n",
       "\t2012 & 48681726  & 100677834 & 144532676 &        NA &        NA &        NA &        NA &        NA &        NA &        NA\\\\\n",
       "\t2013 & 44363544  &  95794696 &        NA &        NA &        NA &        NA &        NA &        NA &        NA &        NA\\\\\n",
       "\t2014 & 39611624  &        NA &        NA &        NA &        NA &        NA &        NA &        NA &        NA &        NA\\\\\n",
       "\\end{tabular}\n"
      ],
      "text/markdown": [
       "\n",
       "| <!--/--> | 1 | 2 | 3 | 4 | 5 | 6 | 7 | 8 | 9 | 10 |\n",
       "|---|---|---|---|---|---|---|---|---|---|---|\n",
       "| 2005 | 23874002  |  47052208 |  65078676 |  76928374 |  86039420 |  92882562 |  97584352 | 101028808 | 103544646 | 105989186 |\n",
       "| 2006 | 22085614  |  50143642 |  70815704 |  85493906 |  96724526 | 103241894 | 108359880 | 112294888 | 115434528 |        NA |\n",
       "| 2007 | 23118624  |  54858830 |  80468296 | 100222858 | 114400258 | 124273484 | 131481744 | 137623546 |        NA |        NA |\n",
       "| 2008 | 28120022  |  65079952 |  94995366 | 115547734 | 128850548 | 139107884 | 147701388 |        NA |        NA |        NA |\n",
       "| 2009 | 32313102  |  80307646 | 115991474 | 141987670 | 160713172 | 176344236 |        NA |        NA |        NA |        NA |\n",
       "| 2010 | 38381884  |  82983790 | 113785916 | 135184698 | 150329102 |        NA |        NA |        NA |        NA |        NA |\n",
       "| 2011 | 37425888  |  81879200 | 113148138 | 135596760 |        NA |        NA |        NA |        NA |        NA |        NA |\n",
       "| 2012 | 48681726  | 100677834 | 144532676 |        NA |        NA |        NA |        NA |        NA |        NA |        NA |\n",
       "| 2013 | 44363544  |  95794696 |        NA |        NA |        NA |        NA |        NA |        NA |        NA |        NA |\n",
       "| 2014 | 39611624  |        NA |        NA |        NA |        NA |        NA |        NA |        NA |        NA |        NA |\n",
       "\n"
      ],
      "text/plain": [
       "      dev\n",
       "origin 1        2         3         4         5         6         7        \n",
       "  2005 23874002  47052208  65078676  76928374  86039420  92882562  97584352\n",
       "  2006 22085614  50143642  70815704  85493906  96724526 103241894 108359880\n",
       "  2007 23118624  54858830  80468296 100222858 114400258 124273484 131481744\n",
       "  2008 28120022  65079952  94995366 115547734 128850548 139107884 147701388\n",
       "  2009 32313102  80307646 115991474 141987670 160713172 176344236        NA\n",
       "  2010 38381884  82983790 113785916 135184698 150329102        NA        NA\n",
       "  2011 37425888  81879200 113148138 135596760        NA        NA        NA\n",
       "  2012 48681726 100677834 144532676        NA        NA        NA        NA\n",
       "  2013 44363544  95794696        NA        NA        NA        NA        NA\n",
       "  2014 39611624        NA        NA        NA        NA        NA        NA\n",
       "      dev\n",
       "origin 8         9         10       \n",
       "  2005 101028808 103544646 105989186\n",
       "  2006 112294888 115434528        NA\n",
       "  2007 137623546        NA        NA\n",
       "  2008        NA        NA        NA\n",
       "  2009        NA        NA        NA\n",
       "  2010        NA        NA        NA\n",
       "  2011        NA        NA        NA\n",
       "  2012        NA        NA        NA\n",
       "  2013        NA        NA        NA\n",
       "  2014        NA        NA        NA"
      ]
     },
     "metadata": {},
     "output_type": "display_data"
    }
   ],
   "source": [
    "psap[[1]]"
   ]
  },
  {
   "cell_type": "code",
   "execution_count": 26,
   "metadata": {},
   "outputs": [
    {
     "data": {
      "image/png": "[encoded data removed]",
      "text/plain": [
       "Plot with title \"Provisions pour sinistres à payer\""
      ]
     },
     "metadata": {},
     "output_type": "display_data"
    }
   ],
   "source": [
    "plot(psap[[1]], main = 'Provisions pour sinistres à payer', cex = 0.8)"
   ]
  },
  {
   "cell_type": "code",
   "execution_count": 27,
   "metadata": {},
   "outputs": [
    {
     "data": {
      "image/png": "[encoded data removed]",
      "text/plain": [
       "plot without title"
      ]
     },
     "metadata": {},
     "output_type": "display_data"
    }
   ],
   "source": [
    "plot(psap[[1]], lattice=TRUE, main = 'Provisions pour sinistres à payer', cex = 0.8)"
   ]
  },
  {
   "cell_type": "markdown",
   "metadata": {},
   "source": [
    "Même pour le cas des provisions pour sinistres à payer l'année **2009** présente une valeur maximale de **176,344,236**."
   ]
  },
  {
   "cell_type": "markdown",
   "metadata": {},
   "source": [
    "## 3) Interprétation"
   ]
  },
  {
   "cell_type": "markdown",
   "metadata": {},
   "source": [
    "- Les années 2009 et 2010 sont critiques en ce qui concerne le nombre des sinistres survenus ainsi que la somme des réglements. Par contre les années 2005 et 2006 sont nettement moins critiques vu le nombre de sinistres relativement bas par rapport aux autres années.<br>\n",
    "- Depuis 2007, on remarque une hausse d'ouvertures qui peut être liée à la croissance du nombre des clients assurés.<br>\n",
    "- Le coût des sinistres survenus en 2014 est inquiétant si l'on le compare avec les réglements des années qui précèdent 2014.<br>\n",
    "- Même si le nombre d'ouverture en 2014 est relativement bas, les réglements sont élevés. On peut expliquer ceci par un coût élevé par sinistre. C'est à dire le ratio Reglements/Ouvertures est très élevé par rapport aux années précédentes ce qui engendrera un PSAP élevé aussi.<br> Par conséquent, une segmentation s'avère primordiale pour mieux gérer les risques et attirer plus de clients à bas risque (plus prudents).<br>\n"
   ]
  },
  {
   "cell_type": "markdown",
   "metadata": {},
   "source": [
    "## 4) Chain Ladder"
   ]
  },
  {
   "cell_type": "markdown",
   "metadata": {},
   "source": [
    "- Chain Ladder appliqué au triangle cumulé des ouvertures"
   ]
  },
  {
   "cell_type": "code",
   "execution_count": 7,
   "metadata": {},
   "outputs": [
    {
     "data": {
      "text/html": [
       "<table>\n",
       "<thead><tr><th></th><th scope=col>1</th><th scope=col>2</th><th scope=col>3</th><th scope=col>4</th><th scope=col>5</th><th scope=col>6</th><th scope=col>7</th><th scope=col>8</th><th scope=col>9</th><th scope=col>10</th></tr></thead>\n",
       "<tbody>\n",
       "\t<tr><th scope=row>2005</th><td>1330    </td><td>2184.000</td><td>2266.000</td><td>2290.000</td><td>2294.000</td><td>2294.000</td><td>2298.000</td><td>2298.000</td><td>2298.000</td><td>2298.000</td></tr>\n",
       "\t<tr><th scope=row>2006</th><td>1330    </td><td>2204.000</td><td>2274.000</td><td>2300.000</td><td>2312.000</td><td>2312.000</td><td>2312.000</td><td>2312.000</td><td>2312.000</td><td>2312.000</td></tr>\n",
       "\t<tr><th scope=row>2007</th><td>1786    </td><td>3196.000</td><td>3358.000</td><td>3420.000</td><td>3440.000</td><td>3442.000</td><td>3444.000</td><td>3446.000</td><td>3446.000</td><td>3446.000</td></tr>\n",
       "\t<tr><th scope=row>2008</th><td>2278    </td><td>3834.000</td><td>4002.000</td><td>4048.000</td><td>4056.000</td><td>4058.000</td><td>4062.000</td><td>4063.009</td><td>4063.009</td><td>4063.009</td></tr>\n",
       "\t<tr><th scope=row>2009</th><td>2568    </td><td>4150.000</td><td>4328.000</td><td>4382.000</td><td>4390.000</td><td>4392.000</td><td>4395.628</td><td>4396.719</td><td>4396.719</td><td>4396.719</td></tr>\n",
       "\t<tr><th scope=row>2010</th><td>2380    </td><td>3864.000</td><td>3988.000</td><td>4024.000</td><td>4032.000</td><td>4033.467</td><td>4036.799</td><td>4037.801</td><td>4037.801</td><td>4037.801</td></tr>\n",
       "\t<tr><th scope=row>2011</th><td>2424    </td><td>3786.000</td><td>3970.000</td><td>4026.000</td><td>4037.804</td><td>4039.273</td><td>4042.610</td><td>4043.614</td><td>4043.614</td><td>4043.614</td></tr>\n",
       "\t<tr><th scope=row>2012</th><td>2348    </td><td>3954.000</td><td>4182.000</td><td>4234.565</td><td>4246.980</td><td>4248.525</td><td>4252.035</td><td>4253.091</td><td>4253.091</td><td>4253.091</td></tr>\n",
       "\t<tr><th scope=row>2013</th><td>2464    </td><td>3918.000</td><td>4090.454</td><td>4141.868</td><td>4154.012</td><td>4155.523</td><td>4158.956</td><td>4159.989</td><td>4159.989</td><td>4159.989</td></tr>\n",
       "\t<tr><th scope=row>2014</th><td>1984    </td><td>3262.247</td><td>3405.837</td><td>3448.646</td><td>3458.758</td><td>3460.016</td><td>3462.874</td><td>3463.734</td><td>3463.734</td><td>3463.734</td></tr>\n",
       "</tbody>\n",
       "</table>\n"
      ],
      "text/latex": [
       "\\begin{tabular}{r|llllllllll}\n",
       "  & 1 & 2 & 3 & 4 & 5 & 6 & 7 & 8 & 9 & 10\\\\\n",
       "\\hline\n",
       "\t2005 & 1330     & 2184.000 & 2266.000 & 2290.000 & 2294.000 & 2294.000 & 2298.000 & 2298.000 & 2298.000 & 2298.000\\\\\n",
       "\t2006 & 1330     & 2204.000 & 2274.000 & 2300.000 & 2312.000 & 2312.000 & 2312.000 & 2312.000 & 2312.000 & 2312.000\\\\\n",
       "\t2007 & 1786     & 3196.000 & 3358.000 & 3420.000 & 3440.000 & 3442.000 & 3444.000 & 3446.000 & 3446.000 & 3446.000\\\\\n",
       "\t2008 & 2278     & 3834.000 & 4002.000 & 4048.000 & 4056.000 & 4058.000 & 4062.000 & 4063.009 & 4063.009 & 4063.009\\\\\n",
       "\t2009 & 2568     & 4150.000 & 4328.000 & 4382.000 & 4390.000 & 4392.000 & 4395.628 & 4396.719 & 4396.719 & 4396.719\\\\\n",
       "\t2010 & 2380     & 3864.000 & 3988.000 & 4024.000 & 4032.000 & 4033.467 & 4036.799 & 4037.801 & 4037.801 & 4037.801\\\\\n",
       "\t2011 & 2424     & 3786.000 & 3970.000 & 4026.000 & 4037.804 & 4039.273 & 4042.610 & 4043.614 & 4043.614 & 4043.614\\\\\n",
       "\t2012 & 2348     & 3954.000 & 4182.000 & 4234.565 & 4246.980 & 4248.525 & 4252.035 & 4253.091 & 4253.091 & 4253.091\\\\\n",
       "\t2013 & 2464     & 3918.000 & 4090.454 & 4141.868 & 4154.012 & 4155.523 & 4158.956 & 4159.989 & 4159.989 & 4159.989\\\\\n",
       "\t2014 & 1984     & 3262.247 & 3405.837 & 3448.646 & 3458.758 & 3460.016 & 3462.874 & 3463.734 & 3463.734 & 3463.734\\\\\n",
       "\\end{tabular}\n"
      ],
      "text/markdown": [
       "\n",
       "| <!--/--> | 1 | 2 | 3 | 4 | 5 | 6 | 7 | 8 | 9 | 10 |\n",
       "|---|---|---|---|---|---|---|---|---|---|---|\n",
       "| 2005 | 1330     | 2184.000 | 2266.000 | 2290.000 | 2294.000 | 2294.000 | 2298.000 | 2298.000 | 2298.000 | 2298.000 |\n",
       "| 2006 | 1330     | 2204.000 | 2274.000 | 2300.000 | 2312.000 | 2312.000 | 2312.000 | 2312.000 | 2312.000 | 2312.000 |\n",
       "| 2007 | 1786     | 3196.000 | 3358.000 | 3420.000 | 3440.000 | 3442.000 | 3444.000 | 3446.000 | 3446.000 | 3446.000 |\n",
       "| 2008 | 2278     | 3834.000 | 4002.000 | 4048.000 | 4056.000 | 4058.000 | 4062.000 | 4063.009 | 4063.009 | 4063.009 |\n",
       "| 2009 | 2568     | 4150.000 | 4328.000 | 4382.000 | 4390.000 | 4392.000 | 4395.628 | 4396.719 | 4396.719 | 4396.719 |\n",
       "| 2010 | 2380     | 3864.000 | 3988.000 | 4024.000 | 4032.000 | 4033.467 | 4036.799 | 4037.801 | 4037.801 | 4037.801 |\n",
       "| 2011 | 2424     | 3786.000 | 3970.000 | 4026.000 | 4037.804 | 4039.273 | 4042.610 | 4043.614 | 4043.614 | 4043.614 |\n",
       "| 2012 | 2348     | 3954.000 | 4182.000 | 4234.565 | 4246.980 | 4248.525 | 4252.035 | 4253.091 | 4253.091 | 4253.091 |\n",
       "| 2013 | 2464     | 3918.000 | 4090.454 | 4141.868 | 4154.012 | 4155.523 | 4158.956 | 4159.989 | 4159.989 | 4159.989 |\n",
       "| 2014 | 1984     | 3262.247 | 3405.837 | 3448.646 | 3458.758 | 3460.016 | 3462.874 | 3463.734 | 3463.734 | 3463.734 |\n",
       "\n"
      ],
      "text/plain": [
       "      dev\n",
       "origin 1    2        3        4        5        6        7        8       \n",
       "  2005 1330 2184.000 2266.000 2290.000 2294.000 2294.000 2298.000 2298.000\n",
       "  2006 1330 2204.000 2274.000 2300.000 2312.000 2312.000 2312.000 2312.000\n",
       "  2007 1786 3196.000 3358.000 3420.000 3440.000 3442.000 3444.000 3446.000\n",
       "  2008 2278 3834.000 4002.000 4048.000 4056.000 4058.000 4062.000 4063.009\n",
       "  2009 2568 4150.000 4328.000 4382.000 4390.000 4392.000 4395.628 4396.719\n",
       "  2010 2380 3864.000 3988.000 4024.000 4032.000 4033.467 4036.799 4037.801\n",
       "  2011 2424 3786.000 3970.000 4026.000 4037.804 4039.273 4042.610 4043.614\n",
       "  2012 2348 3954.000 4182.000 4234.565 4246.980 4248.525 4252.035 4253.091\n",
       "  2013 2464 3918.000 4090.454 4141.868 4154.012 4155.523 4158.956 4159.989\n",
       "  2014 1984 3262.247 3405.837 3448.646 3458.758 3460.016 3462.874 3463.734\n",
       "      dev\n",
       "origin 9        10      \n",
       "  2005 2298.000 2298.000\n",
       "  2006 2312.000 2312.000\n",
       "  2007 3446.000 3446.000\n",
       "  2008 4063.009 4063.009\n",
       "  2009 4396.719 4396.719\n",
       "  2010 4037.801 4037.801\n",
       "  2011 4043.614 4043.614\n",
       "  2012 4253.091 4253.091\n",
       "  2013 4159.989 4159.989\n",
       "  2014 3463.734 3463.734"
      ]
     },
     "metadata": {},
     "output_type": "display_data"
    }
   ],
   "source": [
    "predict(chainOuvertures[[1]])"
   ]
  },
  {
   "cell_type": "markdown",
   "metadata": {},
   "source": [
    "Le nombre de sinistres ultime estimé pour 2014 (3464) est relativement faible par rapport aux années 2008-2013."
   ]
  },
  {
   "cell_type": "markdown",
   "metadata": {},
   "source": [
    "<br>"
   ]
  },
  {
   "cell_type": "markdown",
   "metadata": {},
   "source": [
    "- Chain Ladder appliqué au triangle cumulé des réglements"
   ]
  },
  {
   "cell_type": "code",
   "execution_count": 53,
   "metadata": {},
   "outputs": [
    {
     "data": {
      "text/html": [
       "<table>\n",
       "<thead><tr><th></th><th scope=col>1</th><th scope=col>2</th><th scope=col>3</th><th scope=col>4</th><th scope=col>5</th><th scope=col>6</th><th scope=col>7</th><th scope=col>8</th><th scope=col>9</th><th scope=col>10</th></tr></thead>\n",
       "<tbody>\n",
       "\t<tr><th scope=row>2005</th><td>1171960.1</td><td> 7776414 </td><td>15024265 </td><td>19500271 </td><td>21640625 </td><td>22956126 </td><td>24456861 </td><td>24952133 </td><td>25216675 </td><td>25308068 </td></tr>\n",
       "\t<tr><th scope=row>2006</th><td> 803251.2</td><td> 4740185 </td><td>11956646 </td><td>17455255 </td><td>19531788 </td><td>22307151 </td><td>23056921 </td><td>23405397 </td><td>23733299 </td><td>23819315 </td></tr>\n",
       "\t<tr><th scope=row>2007</th><td> 360204.7</td><td> 3665206 </td><td>11620131 </td><td>16741518 </td><td>19876326 </td><td>21528555 </td><td>23053679 </td><td>23742548 </td><td>24033425 </td><td>24120529 </td></tr>\n",
       "\t<tr><th scope=row>2008</th><td> 639280.7</td><td> 5758227 </td><td>14704134 </td><td>23169110 </td><td>27310136 </td><td>28740608 </td><td>29436524 </td><td>30075840 </td><td>30444309 </td><td>30554648 </td></tr>\n",
       "\t<tr><th scope=row>2009</th><td>1345321.2</td><td> 8725810 </td><td>22432161 </td><td>30476081 </td><td>33739194 </td><td>35017303 </td><td>36656342 </td><td>37452462 </td><td>37911304 </td><td>38048706 </td></tr>\n",
       "\t<tr><th scope=row>2010</th><td>1613626.7</td><td>11683178 </td><td>25203664 </td><td>31583780 </td><td>35470021 </td><td>37925269 </td><td>39700420 </td><td>40562653 </td><td>41059599 </td><td>41208411 </td></tr>\n",
       "\t<tr><th scope=row>2011</th><td>1484186.6</td><td>11118250 </td><td>21789874 </td><td>27676791 </td><td>31390658 </td><td>33563531 </td><td>35134525 </td><td>35897593 </td><td>36337386 </td><td>36469083 </td></tr>\n",
       "\t<tr><th scope=row>2012</th><td>2907654.8</td><td>13230048 </td><td>21993565 </td><td>29855484 </td><td>33861704 </td><td>36205624 </td><td>37900284 </td><td>38723421 </td><td>39197834 </td><td>39339898 </td></tr>\n",
       "\t<tr><th scope=row>2013</th><td>3465668.7</td><td>13106099 </td><td>28438518 </td><td>38604279 </td><td>43784474 </td><td>46815252 </td><td>49006513 </td><td>50070859 </td><td>50684294 </td><td>50867988 </td></tr>\n",
       "\t<tr><th scope=row>2014</th><td>3619805.3</td><td>20946240 </td><td>45450596 </td><td>61697570 </td><td>69976586 </td><td>74820392 </td><td>78322477 </td><td>80023522 </td><td>81003916 </td><td>81297497 </td></tr>\n",
       "</tbody>\n",
       "</table>\n"
      ],
      "text/latex": [
       "\\begin{tabular}{r|llllllllll}\n",
       "  & 1 & 2 & 3 & 4 & 5 & 6 & 7 & 8 & 9 & 10\\\\\n",
       "\\hline\n",
       "\t2005 & 1171960.1 &  7776414  & 15024265  & 19500271  & 21640625  & 22956126  & 24456861  & 24952133  & 25216675  & 25308068 \\\\\n",
       "\t2006 &  803251.2 &  4740185  & 11956646  & 17455255  & 19531788  & 22307151  & 23056921  & 23405397  & 23733299  & 23819315 \\\\\n",
       "\t2007 &  360204.7 &  3665206  & 11620131  & 16741518  & 19876326  & 21528555  & 23053679  & 23742548  & 24033425  & 24120529 \\\\\n",
       "\t2008 &  639280.7 &  5758227  & 14704134  & 23169110  & 27310136  & 28740608  & 29436524  & 30075840  & 30444309  & 30554648 \\\\\n",
       "\t2009 & 1345321.2 &  8725810  & 22432161  & 30476081  & 33739194  & 35017303  & 36656342  & 37452462  & 37911304  & 38048706 \\\\\n",
       "\t2010 & 1613626.7 & 11683178  & 25203664  & 31583780  & 35470021  & 37925269  & 39700420  & 40562653  & 41059599  & 41208411 \\\\\n",
       "\t2011 & 1484186.6 & 11118250  & 21789874  & 27676791  & 31390658  & 33563531  & 35134525  & 35897593  & 36337386  & 36469083 \\\\\n",
       "\t2012 & 2907654.8 & 13230048  & 21993565  & 29855484  & 33861704  & 36205624  & 37900284  & 38723421  & 39197834  & 39339898 \\\\\n",
       "\t2013 & 3465668.7 & 13106099  & 28438518  & 38604279  & 43784474  & 46815252  & 49006513  & 50070859  & 50684294  & 50867988 \\\\\n",
       "\t2014 & 3619805.3 & 20946240  & 45450596  & 61697570  & 69976586  & 74820392  & 78322477  & 80023522  & 81003916  & 81297497 \\\\\n",
       "\\end{tabular}\n"
      ],
      "text/markdown": [
       "\n",
       "| <!--/--> | 1 | 2 | 3 | 4 | 5 | 6 | 7 | 8 | 9 | 10 |\n",
       "|---|---|---|---|---|---|---|---|---|---|---|\n",
       "| 2005 | 1171960.1 |  7776414  | 15024265  | 19500271  | 21640625  | 22956126  | 24456861  | 24952133  | 25216675  | 25308068  |\n",
       "| 2006 |  803251.2 |  4740185  | 11956646  | 17455255  | 19531788  | 22307151  | 23056921  | 23405397  | 23733299  | 23819315  |\n",
       "| 2007 |  360204.7 |  3665206  | 11620131  | 16741518  | 19876326  | 21528555  | 23053679  | 23742548  | 24033425  | 24120529  |\n",
       "| 2008 |  639280.7 |  5758227  | 14704134  | 23169110  | 27310136  | 28740608  | 29436524  | 30075840  | 30444309  | 30554648  |\n",
       "| 2009 | 1345321.2 |  8725810  | 22432161  | 30476081  | 33739194  | 35017303  | 36656342  | 37452462  | 37911304  | 38048706  |\n",
       "| 2010 | 1613626.7 | 11683178  | 25203664  | 31583780  | 35470021  | 37925269  | 39700420  | 40562653  | 41059599  | 41208411  |\n",
       "| 2011 | 1484186.6 | 11118250  | 21789874  | 27676791  | 31390658  | 33563531  | 35134525  | 35897593  | 36337386  | 36469083  |\n",
       "| 2012 | 2907654.8 | 13230048  | 21993565  | 29855484  | 33861704  | 36205624  | 37900284  | 38723421  | 39197834  | 39339898  |\n",
       "| 2013 | 3465668.7 | 13106099  | 28438518  | 38604279  | 43784474  | 46815252  | 49006513  | 50070859  | 50684294  | 50867988  |\n",
       "| 2014 | 3619805.3 | 20946240  | 45450596  | 61697570  | 69976586  | 74820392  | 78322477  | 80023522  | 81003916  | 81297497  |\n",
       "\n"
      ],
      "text/plain": [
       "      dev\n",
       "origin 1         2        3        4        5        6        7        8       \n",
       "  2005 1171960.1  7776414 15024265 19500271 21640625 22956126 24456861 24952133\n",
       "  2006  803251.2  4740185 11956646 17455255 19531788 22307151 23056921 23405397\n",
       "  2007  360204.7  3665206 11620131 16741518 19876326 21528555 23053679 23742548\n",
       "  2008  639280.7  5758227 14704134 23169110 27310136 28740608 29436524 30075840\n",
       "  2009 1345321.2  8725810 22432161 30476081 33739194 35017303 36656342 37452462\n",
       "  2010 1613626.7 11683178 25203664 31583780 35470021 37925269 39700420 40562653\n",
       "  2011 1484186.6 11118250 21789874 27676791 31390658 33563531 35134525 35897593\n",
       "  2012 2907654.8 13230048 21993565 29855484 33861704 36205624 37900284 38723421\n",
       "  2013 3465668.7 13106099 28438518 38604279 43784474 46815252 49006513 50070859\n",
       "  2014 3619805.3 20946240 45450596 61697570 69976586 74820392 78322477 80023522\n",
       "      dev\n",
       "origin 9        10      \n",
       "  2005 25216675 25308068\n",
       "  2006 23733299 23819315\n",
       "  2007 24033425 24120529\n",
       "  2008 30444309 30554648\n",
       "  2009 37911304 38048706\n",
       "  2010 41059599 41208411\n",
       "  2011 36337386 36469083\n",
       "  2012 39197834 39339898\n",
       "  2013 50684294 50867988\n",
       "  2014 81003916 81297497"
      ]
     },
     "metadata": {},
     "output_type": "display_data"
    }
   ],
   "source": [
    "predict(chainReg[[1]])"
   ]
  },
  {
   "cell_type": "markdown",
   "metadata": {},
   "source": [
    "L'affirmation lors de l'analyse se confirme puisqu'on à prévu à priori que le coût des sinistres survenus en 2014 sera très élevé. "
   ]
  },
  {
   "cell_type": "markdown",
   "metadata": {},
   "source": [
    "<br>"
   ]
  },
  {
   "cell_type": "markdown",
   "metadata": {},
   "source": [
    "- Chain Ladder appliqué au triangle cumulé des charges"
   ]
  },
  {
   "cell_type": "code",
   "execution_count": 54,
   "metadata": {},
   "outputs": [
    {
     "data": {
      "text/html": [
       "<table>\n",
       "<thead><tr><th></th><th scope=col>1</th><th scope=col>2</th><th scope=col>3</th><th scope=col>4</th><th scope=col>5</th><th scope=col>6</th><th scope=col>7</th><th scope=col>8</th><th scope=col>9</th><th scope=col>10</th></tr></thead>\n",
       "<tbody>\n",
       "\t<tr><th scope=row>2005</th><td>23874002 </td><td> 47052208</td><td> 65078676</td><td> 76928374</td><td> 86039420</td><td> 92882562</td><td> 97584352</td><td>101028808</td><td>103544646</td><td>105989186</td></tr>\n",
       "\t<tr><th scope=row>2006</th><td>22085614 </td><td> 50143642</td><td> 70815704</td><td> 85493906</td><td> 96724526</td><td>103241894</td><td>108359880</td><td>112294888</td><td>115434528</td><td>118159771</td></tr>\n",
       "\t<tr><th scope=row>2007</th><td>23118624 </td><td> 54858830</td><td> 80468296</td><td>100222858</td><td>114400258</td><td>124273484</td><td>131481744</td><td>137623546</td><td>141272118</td><td>144607350</td></tr>\n",
       "\t<tr><th scope=row>2008</th><td>28120022 </td><td> 65079952</td><td> 94995366</td><td>115547734</td><td>128850548</td><td>139107884</td><td>147701388</td><td>153620048</td><td>157692708</td><td>161415606</td></tr>\n",
       "\t<tr><th scope=row>2009</th><td>32313102 </td><td> 80307646</td><td>115991474</td><td>141987670</td><td>160713172</td><td>176344236</td><td>186176997</td><td>193637444</td><td>198771015</td><td>203463712</td></tr>\n",
       "\t<tr><th scope=row>2010</th><td>38381884 </td><td> 82983790</td><td>113785916</td><td>135184698</td><td>150329102</td><td>162914981</td><td>171998941</td><td>178891248</td><td>183633879</td><td>187969211</td></tr>\n",
       "\t<tr><th scope=row>2011</th><td>37425888 </td><td> 81879200</td><td>113148138</td><td>135596760</td><td>152499001</td><td>165266549</td><td>174481630</td><td>181473423</td><td>186284511</td><td>190682420</td></tr>\n",
       "\t<tr><th scope=row>2012</th><td>48681726 </td><td>100677834</td><td>144532676</td><td>174725241</td><td>196504878</td><td>212956693</td><td>224830924</td><td>233840304</td><td>240039703</td><td>245706695</td></tr>\n",
       "\t<tr><th scope=row>2013</th><td>44363544 </td><td> 95794696</td><td>135923013</td><td>164317038</td><td>184799284</td><td>200271082</td><td>211437977</td><td>219910677</td><td>225740784</td><td>231070199</td></tr>\n",
       "\t<tr><th scope=row>2014</th><td>39611624 </td><td> 87461031</td><td>124098382</td><td>150022267</td><td>168722659</td><td>182848487</td><td>193043917</td><td>200779535</td><td>206102451</td><td>210968233</td></tr>\n",
       "</tbody>\n",
       "</table>\n"
      ],
      "text/latex": [
       "\\begin{tabular}{r|llllllllll}\n",
       "  & 1 & 2 & 3 & 4 & 5 & 6 & 7 & 8 & 9 & 10\\\\\n",
       "\\hline\n",
       "\t2005 & 23874002  &  47052208 &  65078676 &  76928374 &  86039420 &  92882562 &  97584352 & 101028808 & 103544646 & 105989186\\\\\n",
       "\t2006 & 22085614  &  50143642 &  70815704 &  85493906 &  96724526 & 103241894 & 108359880 & 112294888 & 115434528 & 118159771\\\\\n",
       "\t2007 & 23118624  &  54858830 &  80468296 & 100222858 & 114400258 & 124273484 & 131481744 & 137623546 & 141272118 & 144607350\\\\\n",
       "\t2008 & 28120022  &  65079952 &  94995366 & 115547734 & 128850548 & 139107884 & 147701388 & 153620048 & 157692708 & 161415606\\\\\n",
       "\t2009 & 32313102  &  80307646 & 115991474 & 141987670 & 160713172 & 176344236 & 186176997 & 193637444 & 198771015 & 203463712\\\\\n",
       "\t2010 & 38381884  &  82983790 & 113785916 & 135184698 & 150329102 & 162914981 & 171998941 & 178891248 & 183633879 & 187969211\\\\\n",
       "\t2011 & 37425888  &  81879200 & 113148138 & 135596760 & 152499001 & 165266549 & 174481630 & 181473423 & 186284511 & 190682420\\\\\n",
       "\t2012 & 48681726  & 100677834 & 144532676 & 174725241 & 196504878 & 212956693 & 224830924 & 233840304 & 240039703 & 245706695\\\\\n",
       "\t2013 & 44363544  &  95794696 & 135923013 & 164317038 & 184799284 & 200271082 & 211437977 & 219910677 & 225740784 & 231070199\\\\\n",
       "\t2014 & 39611624  &  87461031 & 124098382 & 150022267 & 168722659 & 182848487 & 193043917 & 200779535 & 206102451 & 210968233\\\\\n",
       "\\end{tabular}\n"
      ],
      "text/markdown": [
       "\n",
       "| <!--/--> | 1 | 2 | 3 | 4 | 5 | 6 | 7 | 8 | 9 | 10 |\n",
       "|---|---|---|---|---|---|---|---|---|---|---|\n",
       "| 2005 | 23874002  |  47052208 |  65078676 |  76928374 |  86039420 |  92882562 |  97584352 | 101028808 | 103544646 | 105989186 |\n",
       "| 2006 | 22085614  |  50143642 |  70815704 |  85493906 |  96724526 | 103241894 | 108359880 | 112294888 | 115434528 | 118159771 |\n",
       "| 2007 | 23118624  |  54858830 |  80468296 | 100222858 | 114400258 | 124273484 | 131481744 | 137623546 | 141272118 | 144607350 |\n",
       "| 2008 | 28120022  |  65079952 |  94995366 | 115547734 | 128850548 | 139107884 | 147701388 | 153620048 | 157692708 | 161415606 |\n",
       "| 2009 | 32313102  |  80307646 | 115991474 | 141987670 | 160713172 | 176344236 | 186176997 | 193637444 | 198771015 | 203463712 |\n",
       "| 2010 | 38381884  |  82983790 | 113785916 | 135184698 | 150329102 | 162914981 | 171998941 | 178891248 | 183633879 | 187969211 |\n",
       "| 2011 | 37425888  |  81879200 | 113148138 | 135596760 | 152499001 | 165266549 | 174481630 | 181473423 | 186284511 | 190682420 |\n",
       "| 2012 | 48681726  | 100677834 | 144532676 | 174725241 | 196504878 | 212956693 | 224830924 | 233840304 | 240039703 | 245706695 |\n",
       "| 2013 | 44363544  |  95794696 | 135923013 | 164317038 | 184799284 | 200271082 | 211437977 | 219910677 | 225740784 | 231070199 |\n",
       "| 2014 | 39611624  |  87461031 | 124098382 | 150022267 | 168722659 | 182848487 | 193043917 | 200779535 | 206102451 | 210968233 |\n",
       "\n"
      ],
      "text/plain": [
       "      dev\n",
       "origin 1        2         3         4         5         6         7        \n",
       "  2005 23874002  47052208  65078676  76928374  86039420  92882562  97584352\n",
       "  2006 22085614  50143642  70815704  85493906  96724526 103241894 108359880\n",
       "  2007 23118624  54858830  80468296 100222858 114400258 124273484 131481744\n",
       "  2008 28120022  65079952  94995366 115547734 128850548 139107884 147701388\n",
       "  2009 32313102  80307646 115991474 141987670 160713172 176344236 186176997\n",
       "  2010 38381884  82983790 113785916 135184698 150329102 162914981 171998941\n",
       "  2011 37425888  81879200 113148138 135596760 152499001 165266549 174481630\n",
       "  2012 48681726 100677834 144532676 174725241 196504878 212956693 224830924\n",
       "  2013 44363544  95794696 135923013 164317038 184799284 200271082 211437977\n",
       "  2014 39611624  87461031 124098382 150022267 168722659 182848487 193043917\n",
       "      dev\n",
       "origin 8         9         10       \n",
       "  2005 101028808 103544646 105989186\n",
       "  2006 112294888 115434528 118159771\n",
       "  2007 137623546 141272118 144607350\n",
       "  2008 153620048 157692708 161415606\n",
       "  2009 193637444 198771015 203463712\n",
       "  2010 178891248 183633879 187969211\n",
       "  2011 181473423 186284511 190682420\n",
       "  2012 233840304 240039703 245706695\n",
       "  2013 219910677 225740784 231070199\n",
       "  2014 200779535 206102451 210968233"
      ]
     },
     "metadata": {},
     "output_type": "display_data"
    }
   ],
   "source": [
    "predict(chainPsap[[1]])"
   ]
  },
  {
   "cell_type": "markdown",
   "metadata": {},
   "source": [
    "D'après les données précédentes, il serait plus convenable de calculer le **coût moyen** en se basant sur les années **2009 .. 2013**."
   ]
  },
  {
   "cell_type": "markdown",
   "metadata": {},
   "source": [
    "## 5) Nombre probable de tardifs & estimation des PSAP"
   ]
  },
  {
   "cell_type": "code",
   "execution_count": 85,
   "metadata": {},
   "outputs": [],
   "source": [
    "sumOuv = 0\n",
    "sumReg = 0\n",
    "sumPsap = 0\n",
    "for(i in 5:9)\n",
    "{\n",
    "    sumOuv = sumOuv + ouvertures[[1]][i,11-i]\n",
    "    sumReg = sumReg + reg[[1]][i,11-i]\n",
    "    sumPsap = sumPsap + psapNC[[1]][i,11-i]\n",
    "}"
   ]
  },
  {
   "cell_type": "code",
   "execution_count": 92,
   "metadata": {},
   "outputs": [
    {
     "name": "stdout",
     "output_type": "stream",
     "text": [
      "[1] \"Coût Moyen: 13712\"\n"
     ]
    }
   ],
   "source": [
    "CM = ceiling((sumReg + sumPsap)/sumOuv)\n",
    "print(paste('Coût Moyen:',CM))"
   ]
  },
  {
   "cell_type": "code",
   "execution_count": 91,
   "metadata": {},
   "outputs": [
    {
     "data": {
      "text/html": [
       "<table>\n",
       "<thead><tr><th></th><th scope=col>1</th><th scope=col>2</th><th scope=col>3</th><th scope=col>4</th><th scope=col>5</th><th scope=col>6</th><th scope=col>7</th><th scope=col>8</th><th scope=col>9</th><th scope=col>10</th></tr></thead>\n",
       "<tbody>\n",
       "\t<tr><th scope=row>2005</th><td>1330    </td><td>2184.000</td><td>2266.000</td><td>2290.000</td><td>2294.000</td><td>2294.000</td><td>2298.000</td><td>2298.000</td><td>2298.000</td><td>2298.000</td></tr>\n",
       "\t<tr><th scope=row>2006</th><td>1330    </td><td>2204.000</td><td>2274.000</td><td>2300.000</td><td>2312.000</td><td>2312.000</td><td>2312.000</td><td>2312.000</td><td>2312.000</td><td>2312.000</td></tr>\n",
       "\t<tr><th scope=row>2007</th><td>1786    </td><td>3196.000</td><td>3358.000</td><td>3420.000</td><td>3440.000</td><td>3442.000</td><td>3444.000</td><td>3446.000</td><td>3446.000</td><td>3446.000</td></tr>\n",
       "\t<tr><th scope=row>2008</th><td>2278    </td><td>3834.000</td><td>4002.000</td><td>4048.000</td><td>4056.000</td><td>4058.000</td><td>4062.000</td><td>4063.009</td><td>4063.009</td><td>4063.009</td></tr>\n",
       "\t<tr><th scope=row>2009</th><td>2568    </td><td>4150.000</td><td>4328.000</td><td>4382.000</td><td>4390.000</td><td>4392.000</td><td>4395.628</td><td>4396.719</td><td>4396.719</td><td>4396.719</td></tr>\n",
       "\t<tr><th scope=row>2010</th><td>2380    </td><td>3864.000</td><td>3988.000</td><td>4024.000</td><td>4032.000</td><td>4033.467</td><td>4036.799</td><td>4037.801</td><td>4037.801</td><td>4037.801</td></tr>\n",
       "\t<tr><th scope=row>2011</th><td>2424    </td><td>3786.000</td><td>3970.000</td><td>4026.000</td><td>4037.804</td><td>4039.273</td><td>4042.610</td><td>4043.614</td><td>4043.614</td><td>4043.614</td></tr>\n",
       "\t<tr><th scope=row>2012</th><td>2348    </td><td>3954.000</td><td>4182.000</td><td>4234.565</td><td>4246.980</td><td>4248.525</td><td>4252.035</td><td>4253.091</td><td>4253.091</td><td>4253.091</td></tr>\n",
       "\t<tr><th scope=row>2013</th><td>2464    </td><td>3918.000</td><td>4090.454</td><td>4141.868</td><td>4154.012</td><td>4155.523</td><td>4158.956</td><td>4159.989</td><td>4159.989</td><td>4159.989</td></tr>\n",
       "\t<tr><th scope=row>2014</th><td>1984    </td><td>3262.247</td><td>3405.837</td><td>3448.646</td><td>3458.758</td><td>3460.016</td><td>3462.874</td><td>3463.734</td><td>3463.734</td><td>3463.734</td></tr>\n",
       "</tbody>\n",
       "</table>\n"
      ],
      "text/latex": [
       "\\begin{tabular}{r|llllllllll}\n",
       "  & 1 & 2 & 3 & 4 & 5 & 6 & 7 & 8 & 9 & 10\\\\\n",
       "\\hline\n",
       "\t2005 & 1330     & 2184.000 & 2266.000 & 2290.000 & 2294.000 & 2294.000 & 2298.000 & 2298.000 & 2298.000 & 2298.000\\\\\n",
       "\t2006 & 1330     & 2204.000 & 2274.000 & 2300.000 & 2312.000 & 2312.000 & 2312.000 & 2312.000 & 2312.000 & 2312.000\\\\\n",
       "\t2007 & 1786     & 3196.000 & 3358.000 & 3420.000 & 3440.000 & 3442.000 & 3444.000 & 3446.000 & 3446.000 & 3446.000\\\\\n",
       "\t2008 & 2278     & 3834.000 & 4002.000 & 4048.000 & 4056.000 & 4058.000 & 4062.000 & 4063.009 & 4063.009 & 4063.009\\\\\n",
       "\t2009 & 2568     & 4150.000 & 4328.000 & 4382.000 & 4390.000 & 4392.000 & 4395.628 & 4396.719 & 4396.719 & 4396.719\\\\\n",
       "\t2010 & 2380     & 3864.000 & 3988.000 & 4024.000 & 4032.000 & 4033.467 & 4036.799 & 4037.801 & 4037.801 & 4037.801\\\\\n",
       "\t2011 & 2424     & 3786.000 & 3970.000 & 4026.000 & 4037.804 & 4039.273 & 4042.610 & 4043.614 & 4043.614 & 4043.614\\\\\n",
       "\t2012 & 2348     & 3954.000 & 4182.000 & 4234.565 & 4246.980 & 4248.525 & 4252.035 & 4253.091 & 4253.091 & 4253.091\\\\\n",
       "\t2013 & 2464     & 3918.000 & 4090.454 & 4141.868 & 4154.012 & 4155.523 & 4158.956 & 4159.989 & 4159.989 & 4159.989\\\\\n",
       "\t2014 & 1984     & 3262.247 & 3405.837 & 3448.646 & 3458.758 & 3460.016 & 3462.874 & 3463.734 & 3463.734 & 3463.734\\\\\n",
       "\\end{tabular}\n"
      ],
      "text/markdown": [
       "\n",
       "| <!--/--> | 1 | 2 | 3 | 4 | 5 | 6 | 7 | 8 | 9 | 10 |\n",
       "|---|---|---|---|---|---|---|---|---|---|---|\n",
       "| 2005 | 1330     | 2184.000 | 2266.000 | 2290.000 | 2294.000 | 2294.000 | 2298.000 | 2298.000 | 2298.000 | 2298.000 |\n",
       "| 2006 | 1330     | 2204.000 | 2274.000 | 2300.000 | 2312.000 | 2312.000 | 2312.000 | 2312.000 | 2312.000 | 2312.000 |\n",
       "| 2007 | 1786     | 3196.000 | 3358.000 | 3420.000 | 3440.000 | 3442.000 | 3444.000 | 3446.000 | 3446.000 | 3446.000 |\n",
       "| 2008 | 2278     | 3834.000 | 4002.000 | 4048.000 | 4056.000 | 4058.000 | 4062.000 | 4063.009 | 4063.009 | 4063.009 |\n",
       "| 2009 | 2568     | 4150.000 | 4328.000 | 4382.000 | 4390.000 | 4392.000 | 4395.628 | 4396.719 | 4396.719 | 4396.719 |\n",
       "| 2010 | 2380     | 3864.000 | 3988.000 | 4024.000 | 4032.000 | 4033.467 | 4036.799 | 4037.801 | 4037.801 | 4037.801 |\n",
       "| 2011 | 2424     | 3786.000 | 3970.000 | 4026.000 | 4037.804 | 4039.273 | 4042.610 | 4043.614 | 4043.614 | 4043.614 |\n",
       "| 2012 | 2348     | 3954.000 | 4182.000 | 4234.565 | 4246.980 | 4248.525 | 4252.035 | 4253.091 | 4253.091 | 4253.091 |\n",
       "| 2013 | 2464     | 3918.000 | 4090.454 | 4141.868 | 4154.012 | 4155.523 | 4158.956 | 4159.989 | 4159.989 | 4159.989 |\n",
       "| 2014 | 1984     | 3262.247 | 3405.837 | 3448.646 | 3458.758 | 3460.016 | 3462.874 | 3463.734 | 3463.734 | 3463.734 |\n",
       "\n"
      ],
      "text/plain": [
       "      dev\n",
       "origin 1    2        3        4        5        6        7        8       \n",
       "  2005 1330 2184.000 2266.000 2290.000 2294.000 2294.000 2298.000 2298.000\n",
       "  2006 1330 2204.000 2274.000 2300.000 2312.000 2312.000 2312.000 2312.000\n",
       "  2007 1786 3196.000 3358.000 3420.000 3440.000 3442.000 3444.000 3446.000\n",
       "  2008 2278 3834.000 4002.000 4048.000 4056.000 4058.000 4062.000 4063.009\n",
       "  2009 2568 4150.000 4328.000 4382.000 4390.000 4392.000 4395.628 4396.719\n",
       "  2010 2380 3864.000 3988.000 4024.000 4032.000 4033.467 4036.799 4037.801\n",
       "  2011 2424 3786.000 3970.000 4026.000 4037.804 4039.273 4042.610 4043.614\n",
       "  2012 2348 3954.000 4182.000 4234.565 4246.980 4248.525 4252.035 4253.091\n",
       "  2013 2464 3918.000 4090.454 4141.868 4154.012 4155.523 4158.956 4159.989\n",
       "  2014 1984 3262.247 3405.837 3448.646 3458.758 3460.016 3462.874 3463.734\n",
       "      dev\n",
       "origin 9        10      \n",
       "  2005 2298.000 2298.000\n",
       "  2006 2312.000 2312.000\n",
       "  2007 3446.000 3446.000\n",
       "  2008 4063.009 4063.009\n",
       "  2009 4396.719 4396.719\n",
       "  2010 4037.801 4037.801\n",
       "  2011 4043.614 4043.614\n",
       "  2012 4253.091 4253.091\n",
       "  2013 4159.989 4159.989\n",
       "  2014 3463.734 3463.734"
      ]
     },
     "metadata": {},
     "output_type": "display_data"
    }
   ],
   "source": [
    "ouvFullTriangle = predict(chainOuvertures[[1]])\n",
    "ouvFullTriangle"
   ]
  },
  {
   "cell_type": "markdown",
   "metadata": {},
   "source": [
    "On détermine en premier lieu la Provision pour sinistres à payer (PSAP).<br> La\n",
    "provision pour sinistres tardifs est égale à la PSAP diminuée de la charge de\n",
    "sinistres connue en fin d’exercice. <br>Le nombre de sinistres peut être estimé par la méthode de Chain-Ladder\n",
    "appliquée aux nombres de sinistres déclarés."
   ]
  },
  {
   "cell_type": "code",
   "execution_count": 120,
   "metadata": {},
   "outputs": [
    {
     "name": "stdout",
     "output_type": "stream",
     "text": [
      "[1] \"Total de tardifs: 1822\"\n"
     ]
    }
   ],
   "source": [
    "TotalTardifs=0\n",
    "for (i in 1:10)\n",
    "{\n",
    "    TotalTardifs = TotalTardifs + (ouvFullTriangle[i,10] - ouvFullTriangle[i,11-i])\n",
    "}\n",
    "TotalTardifs = ceiling(TotalTardifs)\n",
    "print(paste(\"Total de tardifs:\",TotalTardifs))"
   ]
  },
  {
   "cell_type": "code",
   "execution_count": 124,
   "metadata": {},
   "outputs": [
    {
     "name": "stdout",
     "output_type": "stream",
     "text": [
      "[1] \"Estimation des PSAP par le Coût Moyen: 24,983,264.0\"\n"
     ]
    }
   ],
   "source": [
    "PSAPestim = TotalTardifs*CM\n",
    "print(paste('Estimation des PSAP par le Coût Moyen:',format(round(as.numeric(PSAPestim), 1), nsmall=1, big.mark=\",\") ) )"
   ]
  },
  {
   "cell_type": "markdown",
   "metadata": {},
   "source": [
    "On va comparer ce résultat aux résultats obtenus par les méthodes Mack et Bootstrap"
   ]
  },
  {
   "cell_type": "markdown",
   "metadata": {},
   "source": [
    "<br>"
   ]
  },
  {
   "cell_type": "markdown",
   "metadata": {},
   "source": [
    "## 6) Mack & Bootstrap"
   ]
  },
  {
   "cell_type": "code",
   "execution_count": 25,
   "metadata": {},
   "outputs": [
    {
     "data": {
      "text/plain": [
       "MackChainLadder(Triangle = reg[[i]], est.sigma = \"Mack\")\n",
       "\n",
       "         Latest Dev.To.Date   Ultimate       IBNR   Mack.S.E CV(IBNR)\n",
       "2005 25,308,068      1.0000 25,308,068          0          0      NaN\n",
       "2006 23,733,299      0.9964 23,819,315     86,016     26,429    0.307\n",
       "2007 23,742,548      0.9843 24,120,529    377,982     75,579    0.200\n",
       "2008 29,436,524      0.9634 30,554,648  1,118,124    252,511    0.226\n",
       "2009 35,017,303      0.9203 38,048,706  3,031,403    868,343    0.286\n",
       "2010 35,470,021      0.8607 41,208,411  5,738,390  1,691,732    0.295\n",
       "2011 27,676,791      0.7589 36,469,083  8,792,292  1,916,223    0.218\n",
       "2012 21,993,565      0.5591 39,339,898 17,346,333  3,811,911    0.220\n",
       "2013 13,106,099      0.2576 50,867,988 37,761,889  9,873,001    0.261\n",
       "2014  3,619,805      0.0445 81,297,497 77,677,692 22,941,580    0.295\n",
       "\n",
       "                  Totals\n",
       "Latest:   239,104,022.64\n",
       "Dev:                0.61\n",
       "Ultimate: 391,034,143.55\n",
       "IBNR:     151,930,120.92\n",
       "Mack.S.E   27,085,656.76\n",
       "CV(IBNR):           0.18"
      ]
     },
     "metadata": {},
     "output_type": "display_data"
    }
   ],
   "source": [
    "mackReg[[1]]"
   ]
  },
  {
   "cell_type": "code",
   "execution_count": 126,
   "metadata": {},
   "outputs": [
    {
     "data": {
      "image/png": "[encoded data removed]",
      "text/plain": [
       "plot without title"
      ]
     },
     "metadata": {},
     "output_type": "display_data"
    }
   ],
   "source": [
    "plot(mackReg[[1]], lattice=TRUE)"
   ]
  },
  {
   "cell_type": "code",
   "execution_count": 125,
   "metadata": {},
   "outputs": [
    {
     "data": {
      "text/plain": [
       "BootChainLadder(Triangle = reg[[i]], R = 10000)\n",
       "\n",
       "         Latest Mean Ultimate  Mean IBNR   IBNR.S.E   IBNR 75% IBNR 95%\n",
       "2005 25,308,068    25,308,068          0          0          0 0.00e+00\n",
       "2006 23,733,299    23,820,418     87,119    266,662    122,770 5.91e+05\n",
       "2007 23,742,548    24,124,554    382,007    486,151    599,506 1.33e+06\n",
       "2008 29,436,524    30,547,174  1,110,650    800,109  1,540,110 2.59e+06\n",
       "2009 35,017,303    38,055,495  3,038,192  1,307,656  3,840,898 5.40e+06\n",
       "2010 35,470,021    41,240,898  5,770,878  1,802,372  6,860,931 8.98e+06\n",
       "2011 27,676,791    36,512,720  8,835,929  2,260,214 10,265,085 1.28e+07\n",
       "2012 21,993,565    39,442,603 17,449,037  3,595,424 19,758,642 2.38e+07\n",
       "2013 13,106,099    50,993,260 37,887,161  7,797,770 42,810,905 5.17e+07\n",
       "2014  3,619,805    83,054,090 79,434,284 28,593,439 96,410,237 1.32e+08\n",
       "\n",
       "                  Totals\n",
       "Latest:         2.39e+08\n",
       "Mean Ultimate:  3.93e+08\n",
       "Mean IBNR:      1.54e+08\n",
       "IBNR.S.E        3.16e+07\n",
       "Total IBNR 75%: 1.73e+08\n",
       "Total IBNR 95%: 2.12e+08"
      ]
     },
     "metadata": {},
     "output_type": "display_data"
    }
   ],
   "source": [
    "bootstrapReg[[1]]"
   ]
  },
  {
   "cell_type": "code",
   "execution_count": 134,
   "metadata": {},
   "outputs": [
    {
     "data": {
      "text/plain": [
       "$call\n",
       "BootChainLadder(Triangle = reg[[i]], R = 10000)\n"
      ]
     },
     "metadata": {},
     "output_type": "display_data"
    }
   ],
   "source": [
    "bootstrapReg[[1]][1]"
   ]
  },
  {
   "cell_type": "code",
   "execution_count": 128,
   "metadata": {},
   "outputs": [
    {
     "data": {
      "image/png": "[encoded data removed]",
      "text/plain": [
       "Plot with title \"Latest actual incremental claims\n",
       "against simulated values\""
      ]
     },
     "metadata": {},
     "output_type": "display_data"
    }
   ],
   "source": [
    "plot(bootstrapReg[[1]])"
   ]
  },
  {
   "cell_type": "markdown",
   "metadata": {},
   "source": [
    "## 7) Interprétations"
   ]
  },
  {
   "cell_type": "markdown",
   "metadata": {},
   "source": [
    "- **L'estimation des PSAP par la méthode du Coût Moyen est: 24,983,264.** <br>Cette methode est déterministe et consiste à déterminer le coût moyen par année de survenance d’un côté et le nombre de sinistre à venir de l’autre, le règlement futur est alors le produit des deux termes. <br> Le coût moyen d’un sinistre est défini comme étant le rapport entre une charge finale estimée de sinistres et un nombre de sinistres.<br><br>\n",
    "- **Léstimation des PSAP par la méthode de Mack est: 27,085,656.76 en moyenne avec un Coefficient de variance CV(IBNR): 0.18**<br>Donc la méthode de Mack nous a donnée une estimation plus élevée que celle du coût moyen avec un intervalle de confiance de + ou - 18%.<br><br>\n",
    "- Pour **l'estimation des PSAP par la méthode Bootstrap** on a ajouté un aléa au jeu de données pour trouver un résultat plus fiable."
   ]
  }
 ],
 "metadata": {
  "kernelspec": {
   "display_name": "R",
   "language": "R",
   "name": "ir"
  },
  "language_info": {
   "codemirror_mode": "r",
   "file_extension": ".r",
   "mimetype": "text/x-r-source",
   "name": "R",
   "pygments_lexer": "r",
   "version": "3.6.0"
  }
 },
 "nbformat": 4,
 "nbformat_minor": 2
}
